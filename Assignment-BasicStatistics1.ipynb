{
 "cells": [
  {
   "cell_type": "code",
   "execution_count": 1,
   "id": "89b75460",
   "metadata": {},
   "outputs": [],
   "source": [
    "import pandas as pd#With the help of pandas library we import the data and perform some function to explore the data\n",
    "import numpy as np#with th ehelp of numpy we perform numerical calculation and extractions of teh data\n",
    "import matplotlib.pyplot as plt#it helps in visualization of data and plotting it"
   ]
  },
  {
   "cell_type": "code",
   "execution_count": 2,
   "id": "f6411807",
   "metadata": {},
   "outputs": [],
   "source": [
    "df=pd.read_csv(\"sales_data_with_discounts.csv\")"
   ]
  },
  {
   "cell_type": "code",
   "execution_count": 3,
   "id": "d8a48773",
   "metadata": {},
   "outputs": [
    {
     "data": {
      "text/html": [
       "<div>\n",
       "<style scoped>\n",
       "    .dataframe tbody tr th:only-of-type {\n",
       "        vertical-align: middle;\n",
       "    }\n",
       "\n",
       "    .dataframe tbody tr th {\n",
       "        vertical-align: top;\n",
       "    }\n",
       "\n",
       "    .dataframe thead th {\n",
       "        text-align: right;\n",
       "    }\n",
       "</style>\n",
       "<table border=\"1\" class=\"dataframe\">\n",
       "  <thead>\n",
       "    <tr style=\"text-align: right;\">\n",
       "      <th></th>\n",
       "      <th>Date</th>\n",
       "      <th>Day</th>\n",
       "      <th>SKU</th>\n",
       "      <th>City</th>\n",
       "      <th>Volume</th>\n",
       "      <th>BU</th>\n",
       "      <th>Brand</th>\n",
       "      <th>Model</th>\n",
       "      <th>Avg Price</th>\n",
       "      <th>Total Sales Value</th>\n",
       "      <th>Discount Rate (%)</th>\n",
       "      <th>Discount Amount</th>\n",
       "      <th>Net Sales Value</th>\n",
       "    </tr>\n",
       "  </thead>\n",
       "  <tbody>\n",
       "    <tr>\n",
       "      <th>0</th>\n",
       "      <td>01-04-2021</td>\n",
       "      <td>Thursday</td>\n",
       "      <td>M01</td>\n",
       "      <td>C</td>\n",
       "      <td>15</td>\n",
       "      <td>Mobiles</td>\n",
       "      <td>RealU</td>\n",
       "      <td>RU-10</td>\n",
       "      <td>12100</td>\n",
       "      <td>181500</td>\n",
       "      <td>11.654820</td>\n",
       "      <td>21153.498820</td>\n",
       "      <td>160346.501180</td>\n",
       "    </tr>\n",
       "    <tr>\n",
       "      <th>1</th>\n",
       "      <td>01-04-2021</td>\n",
       "      <td>Thursday</td>\n",
       "      <td>M02</td>\n",
       "      <td>C</td>\n",
       "      <td>10</td>\n",
       "      <td>Mobiles</td>\n",
       "      <td>RealU</td>\n",
       "      <td>RU-9 Plus</td>\n",
       "      <td>10100</td>\n",
       "      <td>101000</td>\n",
       "      <td>11.560498</td>\n",
       "      <td>11676.102961</td>\n",
       "      <td>89323.897039</td>\n",
       "    </tr>\n",
       "    <tr>\n",
       "      <th>2</th>\n",
       "      <td>01-04-2021</td>\n",
       "      <td>Thursday</td>\n",
       "      <td>M03</td>\n",
       "      <td>C</td>\n",
       "      <td>7</td>\n",
       "      <td>Mobiles</td>\n",
       "      <td>YouM</td>\n",
       "      <td>YM-99</td>\n",
       "      <td>16100</td>\n",
       "      <td>112700</td>\n",
       "      <td>9.456886</td>\n",
       "      <td>10657.910157</td>\n",
       "      <td>102042.089843</td>\n",
       "    </tr>\n",
       "    <tr>\n",
       "      <th>3</th>\n",
       "      <td>01-04-2021</td>\n",
       "      <td>Thursday</td>\n",
       "      <td>M04</td>\n",
       "      <td>C</td>\n",
       "      <td>6</td>\n",
       "      <td>Mobiles</td>\n",
       "      <td>YouM</td>\n",
       "      <td>YM-99 Plus</td>\n",
       "      <td>20100</td>\n",
       "      <td>120600</td>\n",
       "      <td>6.935385</td>\n",
       "      <td>8364.074702</td>\n",
       "      <td>112235.925298</td>\n",
       "    </tr>\n",
       "    <tr>\n",
       "      <th>4</th>\n",
       "      <td>01-04-2021</td>\n",
       "      <td>Thursday</td>\n",
       "      <td>M05</td>\n",
       "      <td>C</td>\n",
       "      <td>3</td>\n",
       "      <td>Mobiles</td>\n",
       "      <td>YouM</td>\n",
       "      <td>YM-98</td>\n",
       "      <td>8100</td>\n",
       "      <td>24300</td>\n",
       "      <td>17.995663</td>\n",
       "      <td>4372.946230</td>\n",
       "      <td>19927.053770</td>\n",
       "    </tr>\n",
       "    <tr>\n",
       "      <th>...</th>\n",
       "      <td>...</td>\n",
       "      <td>...</td>\n",
       "      <td>...</td>\n",
       "      <td>...</td>\n",
       "      <td>...</td>\n",
       "      <td>...</td>\n",
       "      <td>...</td>\n",
       "      <td>...</td>\n",
       "      <td>...</td>\n",
       "      <td>...</td>\n",
       "      <td>...</td>\n",
       "      <td>...</td>\n",
       "      <td>...</td>\n",
       "    </tr>\n",
       "    <tr>\n",
       "      <th>445</th>\n",
       "      <td>15-04-2021</td>\n",
       "      <td>Thursday</td>\n",
       "      <td>L06</td>\n",
       "      <td>C</td>\n",
       "      <td>2</td>\n",
       "      <td>Lifestyle</td>\n",
       "      <td>Jeera</td>\n",
       "      <td>M-Casuals</td>\n",
       "      <td>1300</td>\n",
       "      <td>2600</td>\n",
       "      <td>15.475687</td>\n",
       "      <td>402.367873</td>\n",
       "      <td>2197.632127</td>\n",
       "    </tr>\n",
       "    <tr>\n",
       "      <th>446</th>\n",
       "      <td>15-04-2021</td>\n",
       "      <td>Thursday</td>\n",
       "      <td>L07</td>\n",
       "      <td>C</td>\n",
       "      <td>6</td>\n",
       "      <td>Lifestyle</td>\n",
       "      <td>Viva</td>\n",
       "      <td>W-Western</td>\n",
       "      <td>2600</td>\n",
       "      <td>15600</td>\n",
       "      <td>17.057027</td>\n",
       "      <td>2660.896242</td>\n",
       "      <td>12939.103758</td>\n",
       "    </tr>\n",
       "    <tr>\n",
       "      <th>447</th>\n",
       "      <td>15-04-2021</td>\n",
       "      <td>Thursday</td>\n",
       "      <td>L08</td>\n",
       "      <td>C</td>\n",
       "      <td>2</td>\n",
       "      <td>Lifestyle</td>\n",
       "      <td>Viva</td>\n",
       "      <td>W-Lounge</td>\n",
       "      <td>1600</td>\n",
       "      <td>3200</td>\n",
       "      <td>18.965550</td>\n",
       "      <td>606.897606</td>\n",
       "      <td>2593.102394</td>\n",
       "    </tr>\n",
       "    <tr>\n",
       "      <th>448</th>\n",
       "      <td>15-04-2021</td>\n",
       "      <td>Thursday</td>\n",
       "      <td>L09</td>\n",
       "      <td>C</td>\n",
       "      <td>3</td>\n",
       "      <td>Lifestyle</td>\n",
       "      <td>Jeera</td>\n",
       "      <td>M-Formals</td>\n",
       "      <td>1900</td>\n",
       "      <td>5700</td>\n",
       "      <td>16.793014</td>\n",
       "      <td>957.201826</td>\n",
       "      <td>4742.798174</td>\n",
       "    </tr>\n",
       "    <tr>\n",
       "      <th>449</th>\n",
       "      <td>15-04-2021</td>\n",
       "      <td>Thursday</td>\n",
       "      <td>L10</td>\n",
       "      <td>C</td>\n",
       "      <td>1</td>\n",
       "      <td>Lifestyle</td>\n",
       "      <td>Jeera</td>\n",
       "      <td>M-Shoes</td>\n",
       "      <td>3100</td>\n",
       "      <td>3100</td>\n",
       "      <td>15.333300</td>\n",
       "      <td>475.332295</td>\n",
       "      <td>2624.667705</td>\n",
       "    </tr>\n",
       "  </tbody>\n",
       "</table>\n",
       "<p>450 rows × 13 columns</p>\n",
       "</div>"
      ],
      "text/plain": [
       "           Date       Day  SKU City  Volume         BU  Brand       Model  \\\n",
       "0    01-04-2021  Thursday  M01    C      15    Mobiles  RealU       RU-10   \n",
       "1    01-04-2021  Thursday  M02    C      10    Mobiles  RealU   RU-9 Plus   \n",
       "2    01-04-2021  Thursday  M03    C       7    Mobiles   YouM       YM-99   \n",
       "3    01-04-2021  Thursday  M04    C       6    Mobiles   YouM  YM-99 Plus   \n",
       "4    01-04-2021  Thursday  M05    C       3    Mobiles   YouM      YM-98    \n",
       "..          ...       ...  ...  ...     ...        ...    ...         ...   \n",
       "445  15-04-2021  Thursday  L06    C       2  Lifestyle  Jeera   M-Casuals   \n",
       "446  15-04-2021  Thursday  L07    C       6  Lifestyle   Viva   W-Western   \n",
       "447  15-04-2021  Thursday  L08    C       2  Lifestyle   Viva    W-Lounge   \n",
       "448  15-04-2021  Thursday  L09    C       3  Lifestyle  Jeera   M-Formals   \n",
       "449  15-04-2021  Thursday  L10    C       1  Lifestyle  Jeera     M-Shoes   \n",
       "\n",
       "     Avg Price  Total Sales Value  Discount Rate (%)  Discount Amount  \\\n",
       "0        12100             181500          11.654820     21153.498820   \n",
       "1        10100             101000          11.560498     11676.102961   \n",
       "2        16100             112700           9.456886     10657.910157   \n",
       "3        20100             120600           6.935385      8364.074702   \n",
       "4         8100              24300          17.995663      4372.946230   \n",
       "..         ...                ...                ...              ...   \n",
       "445       1300               2600          15.475687       402.367873   \n",
       "446       2600              15600          17.057027      2660.896242   \n",
       "447       1600               3200          18.965550       606.897606   \n",
       "448       1900               5700          16.793014       957.201826   \n",
       "449       3100               3100          15.333300       475.332295   \n",
       "\n",
       "     Net Sales Value  \n",
       "0      160346.501180  \n",
       "1       89323.897039  \n",
       "2      102042.089843  \n",
       "3      112235.925298  \n",
       "4       19927.053770  \n",
       "..               ...  \n",
       "445      2197.632127  \n",
       "446     12939.103758  \n",
       "447      2593.102394  \n",
       "448      4742.798174  \n",
       "449      2624.667705  \n",
       "\n",
       "[450 rows x 13 columns]"
      ]
     },
     "execution_count": 3,
     "metadata": {},
     "output_type": "execute_result"
    }
   ],
   "source": [
    "df"
   ]
  },
  {
   "cell_type": "markdown",
   "id": "021e2c00",
   "metadata": {},
   "source": [
    "## TO CHECK THE TOP PART OF OUR DATA WE USE THE Fn HEAD() AND\n",
    "## TO CHECK THE BOTTOM PART OF THE DATA WE USE THE Fn TAIL()\n"
   ]
  },
  {
   "cell_type": "code",
   "execution_count": 5,
   "id": "7c588cc0",
   "metadata": {},
   "outputs": [
    {
     "data": {
      "text/html": [
       "<div>\n",
       "<style scoped>\n",
       "    .dataframe tbody tr th:only-of-type {\n",
       "        vertical-align: middle;\n",
       "    }\n",
       "\n",
       "    .dataframe tbody tr th {\n",
       "        vertical-align: top;\n",
       "    }\n",
       "\n",
       "    .dataframe thead th {\n",
       "        text-align: right;\n",
       "    }\n",
       "</style>\n",
       "<table border=\"1\" class=\"dataframe\">\n",
       "  <thead>\n",
       "    <tr style=\"text-align: right;\">\n",
       "      <th></th>\n",
       "      <th>Date</th>\n",
       "      <th>Day</th>\n",
       "      <th>SKU</th>\n",
       "      <th>City</th>\n",
       "      <th>Volume</th>\n",
       "      <th>BU</th>\n",
       "      <th>Brand</th>\n",
       "      <th>Model</th>\n",
       "      <th>Avg Price</th>\n",
       "      <th>Total Sales Value</th>\n",
       "      <th>Discount Rate (%)</th>\n",
       "      <th>Discount Amount</th>\n",
       "      <th>Net Sales Value</th>\n",
       "    </tr>\n",
       "  </thead>\n",
       "  <tbody>\n",
       "    <tr>\n",
       "      <th>0</th>\n",
       "      <td>01-04-2021</td>\n",
       "      <td>Thursday</td>\n",
       "      <td>M01</td>\n",
       "      <td>C</td>\n",
       "      <td>15</td>\n",
       "      <td>Mobiles</td>\n",
       "      <td>RealU</td>\n",
       "      <td>RU-10</td>\n",
       "      <td>12100</td>\n",
       "      <td>181500</td>\n",
       "      <td>11.654820</td>\n",
       "      <td>21153.498820</td>\n",
       "      <td>160346.501180</td>\n",
       "    </tr>\n",
       "    <tr>\n",
       "      <th>1</th>\n",
       "      <td>01-04-2021</td>\n",
       "      <td>Thursday</td>\n",
       "      <td>M02</td>\n",
       "      <td>C</td>\n",
       "      <td>10</td>\n",
       "      <td>Mobiles</td>\n",
       "      <td>RealU</td>\n",
       "      <td>RU-9 Plus</td>\n",
       "      <td>10100</td>\n",
       "      <td>101000</td>\n",
       "      <td>11.560498</td>\n",
       "      <td>11676.102961</td>\n",
       "      <td>89323.897039</td>\n",
       "    </tr>\n",
       "    <tr>\n",
       "      <th>2</th>\n",
       "      <td>01-04-2021</td>\n",
       "      <td>Thursday</td>\n",
       "      <td>M03</td>\n",
       "      <td>C</td>\n",
       "      <td>7</td>\n",
       "      <td>Mobiles</td>\n",
       "      <td>YouM</td>\n",
       "      <td>YM-99</td>\n",
       "      <td>16100</td>\n",
       "      <td>112700</td>\n",
       "      <td>9.456886</td>\n",
       "      <td>10657.910157</td>\n",
       "      <td>102042.089843</td>\n",
       "    </tr>\n",
       "    <tr>\n",
       "      <th>3</th>\n",
       "      <td>01-04-2021</td>\n",
       "      <td>Thursday</td>\n",
       "      <td>M04</td>\n",
       "      <td>C</td>\n",
       "      <td>6</td>\n",
       "      <td>Mobiles</td>\n",
       "      <td>YouM</td>\n",
       "      <td>YM-99 Plus</td>\n",
       "      <td>20100</td>\n",
       "      <td>120600</td>\n",
       "      <td>6.935385</td>\n",
       "      <td>8364.074702</td>\n",
       "      <td>112235.925298</td>\n",
       "    </tr>\n",
       "    <tr>\n",
       "      <th>4</th>\n",
       "      <td>01-04-2021</td>\n",
       "      <td>Thursday</td>\n",
       "      <td>M05</td>\n",
       "      <td>C</td>\n",
       "      <td>3</td>\n",
       "      <td>Mobiles</td>\n",
       "      <td>YouM</td>\n",
       "      <td>YM-98</td>\n",
       "      <td>8100</td>\n",
       "      <td>24300</td>\n",
       "      <td>17.995663</td>\n",
       "      <td>4372.946230</td>\n",
       "      <td>19927.053770</td>\n",
       "    </tr>\n",
       "  </tbody>\n",
       "</table>\n",
       "</div>"
      ],
      "text/plain": [
       "         Date       Day  SKU City  Volume       BU  Brand       Model  \\\n",
       "0  01-04-2021  Thursday  M01    C      15  Mobiles  RealU       RU-10   \n",
       "1  01-04-2021  Thursday  M02    C      10  Mobiles  RealU   RU-9 Plus   \n",
       "2  01-04-2021  Thursday  M03    C       7  Mobiles   YouM       YM-99   \n",
       "3  01-04-2021  Thursday  M04    C       6  Mobiles   YouM  YM-99 Plus   \n",
       "4  01-04-2021  Thursday  M05    C       3  Mobiles   YouM      YM-98    \n",
       "\n",
       "   Avg Price  Total Sales Value  Discount Rate (%)  Discount Amount  \\\n",
       "0      12100             181500          11.654820     21153.498820   \n",
       "1      10100             101000          11.560498     11676.102961   \n",
       "2      16100             112700           9.456886     10657.910157   \n",
       "3      20100             120600           6.935385      8364.074702   \n",
       "4       8100              24300          17.995663      4372.946230   \n",
       "\n",
       "   Net Sales Value  \n",
       "0    160346.501180  \n",
       "1     89323.897039  \n",
       "2    102042.089843  \n",
       "3    112235.925298  \n",
       "4     19927.053770  "
      ]
     },
     "execution_count": 5,
     "metadata": {},
     "output_type": "execute_result"
    }
   ],
   "source": [
    "df.head()"
   ]
  },
  {
   "cell_type": "code",
   "execution_count": 6,
   "id": "3a9508fa",
   "metadata": {},
   "outputs": [
    {
     "data": {
      "text/html": [
       "<div>\n",
       "<style scoped>\n",
       "    .dataframe tbody tr th:only-of-type {\n",
       "        vertical-align: middle;\n",
       "    }\n",
       "\n",
       "    .dataframe tbody tr th {\n",
       "        vertical-align: top;\n",
       "    }\n",
       "\n",
       "    .dataframe thead th {\n",
       "        text-align: right;\n",
       "    }\n",
       "</style>\n",
       "<table border=\"1\" class=\"dataframe\">\n",
       "  <thead>\n",
       "    <tr style=\"text-align: right;\">\n",
       "      <th></th>\n",
       "      <th>Date</th>\n",
       "      <th>Day</th>\n",
       "      <th>SKU</th>\n",
       "      <th>City</th>\n",
       "      <th>Volume</th>\n",
       "      <th>BU</th>\n",
       "      <th>Brand</th>\n",
       "      <th>Model</th>\n",
       "      <th>Avg Price</th>\n",
       "      <th>Total Sales Value</th>\n",
       "      <th>Discount Rate (%)</th>\n",
       "      <th>Discount Amount</th>\n",
       "      <th>Net Sales Value</th>\n",
       "    </tr>\n",
       "  </thead>\n",
       "  <tbody>\n",
       "    <tr>\n",
       "      <th>445</th>\n",
       "      <td>15-04-2021</td>\n",
       "      <td>Thursday</td>\n",
       "      <td>L06</td>\n",
       "      <td>C</td>\n",
       "      <td>2</td>\n",
       "      <td>Lifestyle</td>\n",
       "      <td>Jeera</td>\n",
       "      <td>M-Casuals</td>\n",
       "      <td>1300</td>\n",
       "      <td>2600</td>\n",
       "      <td>15.475687</td>\n",
       "      <td>402.367873</td>\n",
       "      <td>2197.632127</td>\n",
       "    </tr>\n",
       "    <tr>\n",
       "      <th>446</th>\n",
       "      <td>15-04-2021</td>\n",
       "      <td>Thursday</td>\n",
       "      <td>L07</td>\n",
       "      <td>C</td>\n",
       "      <td>6</td>\n",
       "      <td>Lifestyle</td>\n",
       "      <td>Viva</td>\n",
       "      <td>W-Western</td>\n",
       "      <td>2600</td>\n",
       "      <td>15600</td>\n",
       "      <td>17.057027</td>\n",
       "      <td>2660.896242</td>\n",
       "      <td>12939.103758</td>\n",
       "    </tr>\n",
       "    <tr>\n",
       "      <th>447</th>\n",
       "      <td>15-04-2021</td>\n",
       "      <td>Thursday</td>\n",
       "      <td>L08</td>\n",
       "      <td>C</td>\n",
       "      <td>2</td>\n",
       "      <td>Lifestyle</td>\n",
       "      <td>Viva</td>\n",
       "      <td>W-Lounge</td>\n",
       "      <td>1600</td>\n",
       "      <td>3200</td>\n",
       "      <td>18.965550</td>\n",
       "      <td>606.897606</td>\n",
       "      <td>2593.102394</td>\n",
       "    </tr>\n",
       "    <tr>\n",
       "      <th>448</th>\n",
       "      <td>15-04-2021</td>\n",
       "      <td>Thursday</td>\n",
       "      <td>L09</td>\n",
       "      <td>C</td>\n",
       "      <td>3</td>\n",
       "      <td>Lifestyle</td>\n",
       "      <td>Jeera</td>\n",
       "      <td>M-Formals</td>\n",
       "      <td>1900</td>\n",
       "      <td>5700</td>\n",
       "      <td>16.793014</td>\n",
       "      <td>957.201826</td>\n",
       "      <td>4742.798174</td>\n",
       "    </tr>\n",
       "    <tr>\n",
       "      <th>449</th>\n",
       "      <td>15-04-2021</td>\n",
       "      <td>Thursday</td>\n",
       "      <td>L10</td>\n",
       "      <td>C</td>\n",
       "      <td>1</td>\n",
       "      <td>Lifestyle</td>\n",
       "      <td>Jeera</td>\n",
       "      <td>M-Shoes</td>\n",
       "      <td>3100</td>\n",
       "      <td>3100</td>\n",
       "      <td>15.333300</td>\n",
       "      <td>475.332295</td>\n",
       "      <td>2624.667705</td>\n",
       "    </tr>\n",
       "  </tbody>\n",
       "</table>\n",
       "</div>"
      ],
      "text/plain": [
       "           Date       Day  SKU City  Volume         BU  Brand      Model  \\\n",
       "445  15-04-2021  Thursday  L06    C       2  Lifestyle  Jeera  M-Casuals   \n",
       "446  15-04-2021  Thursday  L07    C       6  Lifestyle   Viva  W-Western   \n",
       "447  15-04-2021  Thursday  L08    C       2  Lifestyle   Viva   W-Lounge   \n",
       "448  15-04-2021  Thursday  L09    C       3  Lifestyle  Jeera  M-Formals   \n",
       "449  15-04-2021  Thursday  L10    C       1  Lifestyle  Jeera    M-Shoes   \n",
       "\n",
       "     Avg Price  Total Sales Value  Discount Rate (%)  Discount Amount  \\\n",
       "445       1300               2600          15.475687       402.367873   \n",
       "446       2600              15600          17.057027      2660.896242   \n",
       "447       1600               3200          18.965550       606.897606   \n",
       "448       1900               5700          16.793014       957.201826   \n",
       "449       3100               3100          15.333300       475.332295   \n",
       "\n",
       "     Net Sales Value  \n",
       "445      2197.632127  \n",
       "446     12939.103758  \n",
       "447      2593.102394  \n",
       "448      4742.798174  \n",
       "449      2624.667705  "
      ]
     },
     "execution_count": 6,
     "metadata": {},
     "output_type": "execute_result"
    }
   ],
   "source": [
    "df.tail()"
   ]
  },
  {
   "cell_type": "code",
   "execution_count": 7,
   "id": "550e7c9f",
   "metadata": {},
   "outputs": [
    {
     "data": {
      "text/plain": [
       "(450, 13)"
      ]
     },
     "execution_count": 7,
     "metadata": {},
     "output_type": "execute_result"
    }
   ],
   "source": [
    "df.shape#here the data shows that it has 450 rows and 13 column"
   ]
  },
  {
   "cell_type": "markdown",
   "id": "439bd74d",
   "metadata": {},
   "source": [
    "## TO CHECK HOW MANY COLUMNS ARE NUMERICAL AND HOW MANY CPLUMNS ARE CATEGORICAL OR\n",
    "## TO CHECK IF THERE ARE ANY NULL VALUES WE USE THE FUNCTION INFO()\n"
   ]
  },
  {
   "cell_type": "code",
   "execution_count": 8,
   "id": "f3b40577",
   "metadata": {},
   "outputs": [
    {
     "name": "stdout",
     "output_type": "stream",
     "text": [
      "<class 'pandas.core.frame.DataFrame'>\n",
      "RangeIndex: 450 entries, 0 to 449\n",
      "Data columns (total 13 columns):\n",
      " #   Column             Non-Null Count  Dtype  \n",
      "---  ------             --------------  -----  \n",
      " 0   Date               450 non-null    object \n",
      " 1   Day                450 non-null    object \n",
      " 2   SKU                450 non-null    object \n",
      " 3   City               450 non-null    object \n",
      " 4   Volume             450 non-null    int64  \n",
      " 5   BU                 450 non-null    object \n",
      " 6   Brand              450 non-null    object \n",
      " 7   Model              450 non-null    object \n",
      " 8   Avg Price          450 non-null    int64  \n",
      " 9   Total Sales Value  450 non-null    int64  \n",
      " 10  Discount Rate (%)  450 non-null    float64\n",
      " 11  Discount Amount    450 non-null    float64\n",
      " 12  Net Sales Value    450 non-null    float64\n",
      "dtypes: float64(3), int64(3), object(7)\n",
      "memory usage: 45.8+ KB\n"
     ]
    }
   ],
   "source": [
    "df.info()"
   ]
  },
  {
   "cell_type": "markdown",
   "id": "bd50524d",
   "metadata": {},
   "source": [
    "## --- TO DETERMINE IF OUR DATA IS RIGHT SKEWED OR LEFT SKEWED "
   ]
  },
  {
   "cell_type": "markdown",
   "id": "ca66147d",
   "metadata": {},
   "source": [
    "## ---OR TO CHECK THE MEAN,MEDIAN,STANDARD DEVIATION AND VARIANCE OF OUR DATA "
   ]
  },
  {
   "cell_type": "markdown",
   "id": "3980362e",
   "metadata": {},
   "source": [
    "## --- OR TO CHECK THE Q1,Q2,Q3 (WHERE Q STANDS FOR QUARTILE)"
   ]
  },
  {
   "cell_type": "markdown",
   "id": "d461d189",
   "metadata": {},
   "source": [
    "## TO CHECK ALL THE ABOVE REQUIREMENTS IN ONE GO , WE CAN DIRECTLY USE THE Fn DESCRIBE()"
   ]
  },
  {
   "cell_type": "code",
   "execution_count": 9,
   "id": "5f397ea8",
   "metadata": {},
   "outputs": [
    {
     "data": {
      "text/html": [
       "<div>\n",
       "<style scoped>\n",
       "    .dataframe tbody tr th:only-of-type {\n",
       "        vertical-align: middle;\n",
       "    }\n",
       "\n",
       "    .dataframe tbody tr th {\n",
       "        vertical-align: top;\n",
       "    }\n",
       "\n",
       "    .dataframe thead th {\n",
       "        text-align: right;\n",
       "    }\n",
       "</style>\n",
       "<table border=\"1\" class=\"dataframe\">\n",
       "  <thead>\n",
       "    <tr style=\"text-align: right;\">\n",
       "      <th></th>\n",
       "      <th>Volume</th>\n",
       "      <th>Avg Price</th>\n",
       "      <th>Total Sales Value</th>\n",
       "      <th>Discount Rate (%)</th>\n",
       "      <th>Discount Amount</th>\n",
       "      <th>Net Sales Value</th>\n",
       "    </tr>\n",
       "  </thead>\n",
       "  <tbody>\n",
       "    <tr>\n",
       "      <th>count</th>\n",
       "      <td>450.000000</td>\n",
       "      <td>450.000000</td>\n",
       "      <td>450.000000</td>\n",
       "      <td>450.000000</td>\n",
       "      <td>450.000000</td>\n",
       "      <td>450.000000</td>\n",
       "    </tr>\n",
       "    <tr>\n",
       "      <th>mean</th>\n",
       "      <td>5.066667</td>\n",
       "      <td>10453.433333</td>\n",
       "      <td>33812.835556</td>\n",
       "      <td>15.155242</td>\n",
       "      <td>3346.499424</td>\n",
       "      <td>30466.336131</td>\n",
       "    </tr>\n",
       "    <tr>\n",
       "      <th>std</th>\n",
       "      <td>4.231602</td>\n",
       "      <td>18079.904840</td>\n",
       "      <td>50535.074173</td>\n",
       "      <td>4.220602</td>\n",
       "      <td>4509.902963</td>\n",
       "      <td>46358.656624</td>\n",
       "    </tr>\n",
       "    <tr>\n",
       "      <th>min</th>\n",
       "      <td>1.000000</td>\n",
       "      <td>290.000000</td>\n",
       "      <td>400.000000</td>\n",
       "      <td>5.007822</td>\n",
       "      <td>69.177942</td>\n",
       "      <td>326.974801</td>\n",
       "    </tr>\n",
       "    <tr>\n",
       "      <th>25%</th>\n",
       "      <td>3.000000</td>\n",
       "      <td>465.000000</td>\n",
       "      <td>2700.000000</td>\n",
       "      <td>13.965063</td>\n",
       "      <td>460.459304</td>\n",
       "      <td>2202.208645</td>\n",
       "    </tr>\n",
       "    <tr>\n",
       "      <th>50%</th>\n",
       "      <td>4.000000</td>\n",
       "      <td>1450.000000</td>\n",
       "      <td>5700.000000</td>\n",
       "      <td>16.577766</td>\n",
       "      <td>988.933733</td>\n",
       "      <td>4677.788059</td>\n",
       "    </tr>\n",
       "    <tr>\n",
       "      <th>75%</th>\n",
       "      <td>6.000000</td>\n",
       "      <td>10100.000000</td>\n",
       "      <td>53200.000000</td>\n",
       "      <td>18.114718</td>\n",
       "      <td>5316.495427</td>\n",
       "      <td>47847.912852</td>\n",
       "    </tr>\n",
       "    <tr>\n",
       "      <th>max</th>\n",
       "      <td>31.000000</td>\n",
       "      <td>60100.000000</td>\n",
       "      <td>196400.000000</td>\n",
       "      <td>19.992407</td>\n",
       "      <td>25738.022194</td>\n",
       "      <td>179507.479049</td>\n",
       "    </tr>\n",
       "  </tbody>\n",
       "</table>\n",
       "</div>"
      ],
      "text/plain": [
       "           Volume     Avg Price  Total Sales Value  Discount Rate (%)  \\\n",
       "count  450.000000    450.000000         450.000000         450.000000   \n",
       "mean     5.066667  10453.433333       33812.835556          15.155242   \n",
       "std      4.231602  18079.904840       50535.074173           4.220602   \n",
       "min      1.000000    290.000000         400.000000           5.007822   \n",
       "25%      3.000000    465.000000        2700.000000          13.965063   \n",
       "50%      4.000000   1450.000000        5700.000000          16.577766   \n",
       "75%      6.000000  10100.000000       53200.000000          18.114718   \n",
       "max     31.000000  60100.000000      196400.000000          19.992407   \n",
       "\n",
       "       Discount Amount  Net Sales Value  \n",
       "count       450.000000       450.000000  \n",
       "mean       3346.499424     30466.336131  \n",
       "std        4509.902963     46358.656624  \n",
       "min          69.177942       326.974801  \n",
       "25%         460.459304      2202.208645  \n",
       "50%         988.933733      4677.788059  \n",
       "75%        5316.495427     47847.912852  \n",
       "max       25738.022194    179507.479049  "
      ]
     },
     "execution_count": 9,
     "metadata": {},
     "output_type": "execute_result"
    }
   ],
   "source": [
    "df.describe()"
   ]
  },
  {
   "cell_type": "markdown",
   "id": "d8de8730",
   "metadata": {},
   "source": [
    "### IN THE ABOVE DERIVED description we can say clearly say that we've got 6 numerical columns . ANd in that for each one of then we can say if our data is right skewed or left skewed ..from the above derived data we can say that \n",
    "## volume is right skewed considering that mean >median and 50th% is closer to the 25th percentile\n",
    "## AVg price is right skewed considering that mean >median \n",
    "## Total Sales Value is right skewed considering that mean >median \n",
    "## Discount Rate (%)\tis left skewed considering that mean <median and 50th% is closer to the 75th percentile\n",
    "## Discount Amount\tis  right skewed considering that mean >median \n",
    "## Net Sales Value is right skewed considering that mean >median and 50th% is closer to the 25th percentile\n"
   ]
  },
  {
   "cell_type": "markdown",
   "id": "46406ee8",
   "metadata": {},
   "source": [
    "## THERE ARE OTHER WAYS ALSO TO FIND MEAN,MEDIAN ,MODE,STD,VARIANCE,AND ALL THE PERCENTILES AS WELL AS OUTLIERS USING NUMPY\n"
   ]
  },
  {
   "cell_type": "code",
   "execution_count": 7,
   "id": "7031de9a",
   "metadata": {},
   "outputs": [],
   "source": [
    "df1=df[\"Volume\"]"
   ]
  },
  {
   "cell_type": "code",
   "execution_count": 8,
   "id": "93d8a773",
   "metadata": {},
   "outputs": [],
   "source": [
    "df2=df[\"Avg Price\"]"
   ]
  },
  {
   "cell_type": "code",
   "execution_count": 9,
   "id": "aaa905ec",
   "metadata": {},
   "outputs": [],
   "source": [
    "df3=df[\"Total Sales Value\"]"
   ]
  },
  {
   "cell_type": "code",
   "execution_count": 10,
   "id": "4634395a",
   "metadata": {},
   "outputs": [],
   "source": [
    "df4=df[\"Discount Rate (%)\"]"
   ]
  },
  {
   "cell_type": "code",
   "execution_count": 11,
   "id": "83fa6085",
   "metadata": {},
   "outputs": [],
   "source": [
    "df5=df[\"Discount Amount\"]"
   ]
  },
  {
   "cell_type": "code",
   "execution_count": 12,
   "id": "cb144200",
   "metadata": {},
   "outputs": [],
   "source": [
    "df6=df[\"Net Sales Value\"]"
   ]
  },
  {
   "cell_type": "code",
   "execution_count": 16,
   "id": "29ddad60",
   "metadata": {},
   "outputs": [
    {
     "data": {
      "text/plain": [
       "5.066666666666666"
      ]
     },
     "execution_count": 16,
     "metadata": {},
     "output_type": "execute_result"
    }
   ],
   "source": [
    "np.mean(df1)\n"
   ]
  },
  {
   "cell_type": "code",
   "execution_count": 17,
   "id": "e6d06247",
   "metadata": {},
   "outputs": [
    {
     "data": {
      "text/plain": [
       "10453.433333333332"
      ]
     },
     "execution_count": 17,
     "metadata": {},
     "output_type": "execute_result"
    }
   ],
   "source": [
    "np.mean(df2)\n"
   ]
  },
  {
   "cell_type": "code",
   "execution_count": 18,
   "id": "b7520193",
   "metadata": {},
   "outputs": [
    {
     "data": {
      "text/plain": [
       "33812.83555555555"
      ]
     },
     "execution_count": 18,
     "metadata": {},
     "output_type": "execute_result"
    }
   ],
   "source": [
    "np.mean(df3)\n"
   ]
  },
  {
   "cell_type": "code",
   "execution_count": 19,
   "id": "2ddc394d",
   "metadata": {},
   "outputs": [
    {
     "data": {
      "text/plain": [
       "15.155241895330914"
      ]
     },
     "execution_count": 19,
     "metadata": {},
     "output_type": "execute_result"
    }
   ],
   "source": [
    "np.mean(df4)\n"
   ]
  },
  {
   "cell_type": "code",
   "execution_count": 20,
   "id": "c0afb546",
   "metadata": {},
   "outputs": [
    {
     "data": {
      "text/plain": [
       "3346.499424342415"
      ]
     },
     "execution_count": 20,
     "metadata": {},
     "output_type": "execute_result"
    }
   ],
   "source": [
    "np.mean(df5)\n"
   ]
  },
  {
   "cell_type": "code",
   "execution_count": 21,
   "id": "daf46c23",
   "metadata": {},
   "outputs": [
    {
     "data": {
      "text/plain": [
       "30466.336131270138"
      ]
     },
     "execution_count": 21,
     "metadata": {},
     "output_type": "execute_result"
    }
   ],
   "source": [
    "np.mean(df6)"
   ]
  },
  {
   "cell_type": "code",
   "execution_count": 22,
   "id": "e587cfb5",
   "metadata": {},
   "outputs": [
    {
     "data": {
      "text/plain": [
       "4.0"
      ]
     },
     "execution_count": 22,
     "metadata": {},
     "output_type": "execute_result"
    }
   ],
   "source": [
    "np.median(df1)"
   ]
  },
  {
   "cell_type": "code",
   "execution_count": 23,
   "id": "2e292ad4",
   "metadata": {},
   "outputs": [
    {
     "data": {
      "text/plain": [
       "1450.0"
      ]
     },
     "execution_count": 23,
     "metadata": {},
     "output_type": "execute_result"
    }
   ],
   "source": [
    "np.median(df2)"
   ]
  },
  {
   "cell_type": "code",
   "execution_count": 24,
   "id": "77ea06d4",
   "metadata": {},
   "outputs": [
    {
     "data": {
      "text/plain": [
       "5700.0"
      ]
     },
     "execution_count": 24,
     "metadata": {},
     "output_type": "execute_result"
    }
   ],
   "source": [
    "np.median(df3)"
   ]
  },
  {
   "cell_type": "code",
   "execution_count": 25,
   "id": "b3a74f68",
   "metadata": {},
   "outputs": [
    {
     "data": {
      "text/plain": [
       "16.57776564929597"
      ]
     },
     "execution_count": 25,
     "metadata": {},
     "output_type": "execute_result"
    }
   ],
   "source": [
    "np.median(df4)"
   ]
  },
  {
   "cell_type": "code",
   "execution_count": 26,
   "id": "18becdb1",
   "metadata": {},
   "outputs": [
    {
     "data": {
      "text/plain": [
       "988.9337332382784"
      ]
     },
     "execution_count": 26,
     "metadata": {},
     "output_type": "execute_result"
    }
   ],
   "source": [
    "np.median(df5)"
   ]
  },
  {
   "cell_type": "code",
   "execution_count": 27,
   "id": "b0fa138b",
   "metadata": {},
   "outputs": [
    {
     "data": {
      "text/plain": [
       "4677.788059301853"
      ]
     },
     "execution_count": 27,
     "metadata": {},
     "output_type": "execute_result"
    }
   ],
   "source": [
    "np.median(df6)"
   ]
  },
  {
   "cell_type": "code",
   "execution_count": 28,
   "id": "742e625a",
   "metadata": {},
   "outputs": [
    {
     "data": {
      "text/plain": [
       "4.226897995772632"
      ]
     },
     "execution_count": 28,
     "metadata": {},
     "output_type": "execute_result"
    }
   ],
   "source": [
    "np.std(df1)"
   ]
  },
  {
   "cell_type": "code",
   "execution_count": 29,
   "id": "8332ab6a",
   "metadata": {},
   "outputs": [
    {
     "data": {
      "text/plain": [
       "18059.80488392815"
      ]
     },
     "execution_count": 29,
     "metadata": {},
     "output_type": "execute_result"
    }
   ],
   "source": [
    "np.std(df2)"
   ]
  },
  {
   "cell_type": "code",
   "execution_count": 30,
   "id": "189af3aa",
   "metadata": {},
   "outputs": [
    {
     "data": {
      "text/plain": [
       "50478.89286094034"
      ]
     },
     "execution_count": 30,
     "metadata": {},
     "output_type": "execute_result"
    }
   ],
   "source": [
    "np.std(df3)"
   ]
  },
  {
   "cell_type": "code",
   "execution_count": 31,
   "id": "90c12810",
   "metadata": {},
   "outputs": [
    {
     "data": {
      "text/plain": [
       "4.215909987168584"
      ]
     },
     "execution_count": 31,
     "metadata": {},
     "output_type": "execute_result"
    }
   ],
   "source": [
    "np.std(df4)"
   ]
  },
  {
   "cell_type": "code",
   "execution_count": 32,
   "id": "74cfeca6",
   "metadata": {},
   "outputs": [
    {
     "data": {
      "text/plain": [
       "4504.88917307315"
      ]
     },
     "execution_count": 32,
     "metadata": {},
     "output_type": "execute_result"
    }
   ],
   "source": [
    "np.std(df5)"
   ]
  },
  {
   "cell_type": "code",
   "execution_count": 33,
   "id": "fd000678",
   "metadata": {},
   "outputs": [
    {
     "data": {
      "text/plain": [
       "46307.11835730076"
      ]
     },
     "execution_count": 33,
     "metadata": {},
     "output_type": "execute_result"
    }
   ],
   "source": [
    "np.std(df6)"
   ]
  },
  {
   "cell_type": "code",
   "execution_count": 34,
   "id": "3e649f21",
   "metadata": {},
   "outputs": [
    {
     "data": {
      "text/plain": [
       "17.866666666666692"
      ]
     },
     "execution_count": 34,
     "metadata": {},
     "output_type": "execute_result"
    }
   ],
   "source": [
    "np.var(df1)"
   ]
  },
  {
   "cell_type": "code",
   "execution_count": 35,
   "id": "d937ac58",
   "metadata": {},
   "outputs": [
    {
     "data": {
      "text/plain": [
       "326156552.44555503"
      ]
     },
     "execution_count": 35,
     "metadata": {},
     "output_type": "execute_result"
    }
   ],
   "source": [
    "np.var(df2)"
   ]
  },
  {
   "cell_type": "code",
   "execution_count": 36,
   "id": "d9dcb22b",
   "metadata": {},
   "outputs": [
    {
     "data": {
      "text/plain": [
       "2548118624.4662933"
      ]
     },
     "execution_count": 36,
     "metadata": {},
     "output_type": "execute_result"
    }
   ],
   "source": [
    "np.var(df3)"
   ]
  },
  {
   "cell_type": "code",
   "execution_count": 37,
   "id": "b6463e65",
   "metadata": {},
   "outputs": [
    {
     "data": {
      "text/plain": [
       "17.773897019907814"
      ]
     },
     "execution_count": 37,
     "metadata": {},
     "output_type": "execute_result"
    }
   ],
   "source": [
    "np.var(df4)"
   ]
  },
  {
   "cell_type": "code",
   "execution_count": 38,
   "id": "edf195b7",
   "metadata": {},
   "outputs": [
    {
     "data": {
      "text/plain": [
       "20294026.461671695"
      ]
     },
     "execution_count": 38,
     "metadata": {},
     "output_type": "execute_result"
    }
   ],
   "source": [
    "np.var(df5)"
   ]
  },
  {
   "cell_type": "code",
   "execution_count": 39,
   "id": "8bfb4385",
   "metadata": {},
   "outputs": [
    {
     "data": {
      "text/plain": [
       "2144349210.5570607"
      ]
     },
     "execution_count": 39,
     "metadata": {},
     "output_type": "execute_result"
    }
   ],
   "source": [
    "np.var(df6)"
   ]
  },
  {
   "cell_type": "markdown",
   "id": "6132d239",
   "metadata": {},
   "source": [
    "### TO FIND THE NULL VALUES WE CAN USE ISNA()Fn"
   ]
  },
  {
   "cell_type": "code",
   "execution_count": 40,
   "id": "7556bac0",
   "metadata": {},
   "outputs": [
    {
     "data": {
      "text/plain": [
       "Date                 0\n",
       "Day                  0\n",
       "SKU                  0\n",
       "City                 0\n",
       "Volume               0\n",
       "BU                   0\n",
       "Brand                0\n",
       "Model                0\n",
       "Avg Price            0\n",
       "Total Sales Value    0\n",
       "Discount Rate (%)    0\n",
       "Discount Amount      0\n",
       "Net Sales Value      0\n",
       "dtype: int64"
      ]
     },
     "execution_count": 40,
     "metadata": {},
     "output_type": "execute_result"
    }
   ],
   "source": [
    "df.isna().sum()"
   ]
  },
  {
   "cell_type": "code",
   "execution_count": 41,
   "id": "df5b372b",
   "metadata": {},
   "outputs": [],
   "source": [
    "#there are no null values here in this data"
   ]
  },
  {
   "cell_type": "markdown",
   "id": "4e22ed02",
   "metadata": {},
   "source": [
    "### THE ABOVE ANALYSIS AIMS TO PROVIDE THE DESCRIPTION OF THE DATA,GIVES US THE BREIF SUMMARIZATION,AND CHARACTERISTICS OF THE DATA ,IT HELPS US TO IDENTIFY THE CENTRAL TENDENCY OF THE DATA i.e,MEAN,MEDIAN,MODE,STANDARD DEVIATION AND VARIANCE ,HENCE THIS WHOLE METHOD IS CALLED DESCRIPTIVE ANALYSIS OF THE DATA .IT IS THE FIRST STEP IN EXPLORING THE DATA."
   ]
  },
  {
   "cell_type": "markdown",
   "id": "b80f15b5",
   "metadata": {},
   "source": [
    "WE CAN ALSO PLOT HISTOGRAMS AND FIND SKEWNESS AND KURTOSIS FOR EACH NUMERICAL COLUMNS IN THE DATA USING LIBARIES PANDAS AS WELL AS MATPLOTLIB AS SHOWN BELOW"
   ]
  },
  {
   "cell_type": "code",
   "execution_count": 42,
   "id": "dd6c4808",
   "metadata": {},
   "outputs": [
    {
     "data": {
      "text/plain": [
       "<Axes: >"
      ]
     },
     "execution_count": 42,
     "metadata": {},
     "output_type": "execute_result"
    },
    {
     "data": {
      "image/png": "[encoded data removed]",
      "text/plain": [
       "<Figure size 640x480 with 1 Axes>"
      ]
     },
     "metadata": {},
     "output_type": "display_data"
    }
   ],
   "source": [
    "df1.hist()#df1 is volume column"
   ]
  },
  {
   "cell_type": "code",
   "execution_count": 43,
   "id": "7bef47fa",
   "metadata": {},
   "outputs": [
    {
     "data": {
      "text/plain": [
       "2.731723626557714"
      ]
     },
     "execution_count": 43,
     "metadata": {},
     "output_type": "execute_result"
    }
   ],
   "source": [
    "df1.skew()"
   ]
  },
  {
   "cell_type": "code",
   "execution_count": 47,
   "id": "12c4bb0d",
   "metadata": {},
   "outputs": [
    {
     "data": {
      "image/png": "[encoded data removed]",
      "text/plain": [
       "<Figure size 640x480 with 1 Axes>"
      ]
     },
     "metadata": {},
     "output_type": "display_data"
    }
   ],
   "source": [
    "plt.hist(df1,color=\"red\",bins=5) \n",
    "plt.xlabel('Volume')\n",
    "plt.title('Histogram of Volume')\n",
    "plt.show()\n",
    "#we can also use matplotlib for better visualization"
   ]
  },
  {
   "cell_type": "markdown",
   "id": "413de749",
   "metadata": {},
   "source": [
    "here we see that volume is mostly distributed around 0 to 10 \n",
    "\n"
   ]
  },
  {
   "cell_type": "code",
   "execution_count": 52,
   "id": "aa2728bf",
   "metadata": {},
   "outputs": [
    {
     "data": {
      "image/png": "[encoded data removed]",
      "text/plain": [
       "<Figure size 640x480 with 1 Axes>"
      ]
     },
     "metadata": {},
     "output_type": "display_data"
    }
   ],
   "source": [
    "plt.hist(df2,color=\"yellow\") \n",
    "plt.xlabel('Avg Price')\n",
    "plt.title('Histogram of Avg Price')\n",
    "plt.show()"
   ]
  },
  {
   "cell_type": "markdown",
   "id": "ab847181",
   "metadata": {},
   "source": [
    "here it shows that the avg price mostly lies between 0 to 30000 but we can see that there are extreme values as well which could be the result of outliers"
   ]
  },
  {
   "cell_type": "code",
   "execution_count": 53,
   "id": "007807f5",
   "metadata": {},
   "outputs": [
    {
     "data": {
      "image/png": "[encoded data removed]",
      "text/plain": [
       "<Figure size 640x480 with 1 Axes>"
      ]
     },
     "metadata": {},
     "output_type": "display_data"
    }
   ],
   "source": [
    "plt.hist(df3,color=\"purple\",bins=6) \n",
    "plt.xlabel('Total Sales Value')\n",
    "plt.title('Histogram of Total Sales Value')\n",
    "plt.show()"
   ]
  },
  {
   "cell_type": "markdown",
   "id": "861f44b2",
   "metadata": {},
   "source": [
    "we can see that the data of total sales value is mostly distributed around 0to 50k ,but there are some values from 1Lkh to 1.5lak as well"
   ]
  },
  {
   "cell_type": "code",
   "execution_count": 54,
   "id": "e226c9c5",
   "metadata": {},
   "outputs": [
    {
     "data": {
      "image/png": "[encoded data removed]",
      "text/plain": [
       "<Figure size 640x480 with 1 Axes>"
      ]
     },
     "metadata": {},
     "output_type": "display_data"
    }
   ],
   "source": [
    "plt.hist(df4,color=\"green\",bins=6) \n",
    "plt.xlabel('Discount Rate (%)')\n",
    "plt.title('Histogram of Discount Rate (%)')\n",
    "plt.show()"
   ]
  },
  {
   "cell_type": "markdown",
   "id": "5bdef524",
   "metadata": {},
   "source": [
    "here we see that our discount percentages are mostly ranging from 15 to 20 \n"
   ]
  },
  {
   "cell_type": "code",
   "execution_count": 56,
   "id": "d257d759",
   "metadata": {},
   "outputs": [
    {
     "data": {
      "image/png": "[encoded data removed]",
      "text/plain": [
       "<Figure size 640x480 with 1 Axes>"
      ]
     },
     "metadata": {},
     "output_type": "display_data"
    }
   ],
   "source": [
    "plt.hist(df5,color=\"pink\",edgecolor= \"black\",bins=6) \n",
    "plt.xlabel('Discount Amount')\n",
    "plt.title('Histogram of Discount Amount')\n",
    "plt.show()"
   ]
  },
  {
   "cell_type": "markdown",
   "id": "e585f375",
   "metadata": {},
   "source": [
    "here the discount amounts are  mostly distributed between the range of 0 to 5k but we also see some distribution from 5k onwards to 15k ,there could possibilities of outliers at around range of 25k"
   ]
  },
  {
   "cell_type": "code",
   "execution_count": 57,
   "id": "f38d20d4",
   "metadata": {},
   "outputs": [
    {
     "data": {
      "image/png": "[encoded data removed]",
      "text/plain": [
       "<Figure size 640x480 with 1 Axes>"
      ]
     },
     "metadata": {},
     "output_type": "display_data"
    }
   ],
   "source": [
    "plt.hist(df6,color=\"grey\",edgecolor= \"black\",bins=6) \n",
    "plt.xlabel('Net Sales Value')\n",
    "plt.title('Histogram of Net Sales Value')\n",
    "plt.show()"
   ]
  },
  {
   "cell_type": "markdown",
   "id": "1c2aa881",
   "metadata": {},
   "source": [
    "here we see that our net sales value is mostly distributed in the range of 0 to 25k "
   ]
  },
  {
   "cell_type": "code",
   "execution_count": 58,
   "id": "339c64c3",
   "metadata": {},
   "outputs": [
    {
     "data": {
      "text/plain": [
       "1.9088730767759727"
      ]
     },
     "execution_count": 58,
     "metadata": {},
     "output_type": "execute_result"
    }
   ],
   "source": [
    "df2.skew()"
   ]
  },
  {
   "cell_type": "code",
   "execution_count": 59,
   "id": "fb086f7b",
   "metadata": {},
   "outputs": [
    {
     "data": {
      "text/plain": [
       "1.5347293238977937"
      ]
     },
     "execution_count": 59,
     "metadata": {},
     "output_type": "execute_result"
    }
   ],
   "source": [
    "df3.skew()"
   ]
  },
  {
   "cell_type": "code",
   "execution_count": 60,
   "id": "b1922e27",
   "metadata": {},
   "outputs": [
    {
     "data": {
      "text/plain": [
       "-1.0622943696988825"
      ]
     },
     "execution_count": 60,
     "metadata": {},
     "output_type": "execute_result"
    }
   ],
   "source": [
    "df4.skew()"
   ]
  },
  {
   "cell_type": "code",
   "execution_count": 61,
   "id": "47bfd2e7",
   "metadata": {},
   "outputs": [
    {
     "data": {
      "text/plain": [
       "1.9130377339538271"
      ]
     },
     "execution_count": 61,
     "metadata": {},
     "output_type": "execute_result"
    }
   ],
   "source": [
    "df5.skew()"
   ]
  },
  {
   "cell_type": "code",
   "execution_count": 62,
   "id": "7bfdff0c",
   "metadata": {},
   "outputs": [
    {
     "data": {
      "text/plain": [
       "1.5408217575344376"
      ]
     },
     "execution_count": 62,
     "metadata": {},
     "output_type": "execute_result"
    }
   ],
   "source": [
    "df6.skew()"
   ]
  },
  {
   "cell_type": "code",
   "execution_count": 63,
   "id": "c9152f21",
   "metadata": {},
   "outputs": [
    {
     "data": {
      "text/plain": [
       "2.07565498004372"
      ]
     },
     "execution_count": 63,
     "metadata": {},
     "output_type": "execute_result"
    }
   ],
   "source": [
    "df2.kurt()"
   ]
  },
  {
   "cell_type": "code",
   "execution_count": 64,
   "id": "f06260cf",
   "metadata": {},
   "outputs": [
    {
     "data": {
      "text/plain": [
       "1.0249161068455352"
      ]
     },
     "execution_count": 64,
     "metadata": {},
     "output_type": "execute_result"
    }
   ],
   "source": [
    "df3.kurt()"
   ]
  },
  {
   "cell_type": "code",
   "execution_count": 65,
   "id": "caf82864",
   "metadata": {},
   "outputs": [
    {
     "data": {
      "text/plain": [
       "-0.1785407468981699"
      ]
     },
     "execution_count": 65,
     "metadata": {},
     "output_type": "execute_result"
    }
   ],
   "source": [
    "df4.kurt()"
   ]
  },
  {
   "cell_type": "code",
   "execution_count": 66,
   "id": "df69fa26",
   "metadata": {},
   "outputs": [
    {
     "data": {
      "text/plain": [
       "3.8311859719016343"
      ]
     },
     "execution_count": 66,
     "metadata": {},
     "output_type": "execute_result"
    }
   ],
   "source": [
    "df5.kurt()"
   ]
  },
  {
   "cell_type": "code",
   "execution_count": 67,
   "id": "a02701f7",
   "metadata": {},
   "outputs": [
    {
     "data": {
      "text/plain": [
       "1.0124678624199062"
      ]
     },
     "execution_count": 67,
     "metadata": {},
     "output_type": "execute_result"
    }
   ],
   "source": [
    "df6.kurt()"
   ]
  },
  {
   "cell_type": "markdown",
   "id": "e4179aee",
   "metadata": {},
   "source": [
    "## NOW WE CAN ALSO PLOT BOXPLOT WITH MATPLOTLIB AS WELL AS SEABORN LIBRARY"
   ]
  },
  {
   "cell_type": "code",
   "execution_count": 70,
   "id": "a6880eda",
   "metadata": {},
   "outputs": [],
   "source": [
    "import seaborn as sns"
   ]
  },
  {
   "cell_type": "code",
   "execution_count": 82,
   "id": "e56dd121",
   "metadata": {},
   "outputs": [
    {
     "data": {
      "image/png": "[encoded data removed]",
      "text/plain": [
       "<Figure size 640x480 with 1 Axes>"
      ]
     },
     "metadata": {},
     "output_type": "display_data"
    }
   ],
   "source": [
    "plt.boxplot(df1 ,vert=False)\n",
    "plt.xlabel(\"Volume\")\n",
    "\n",
    "plt.title(\"BOXPLOT OF VOLUME\")\n",
    "plt.show()"
   ]
  },
  {
   "cell_type": "markdown",
   "id": "8dd07b50",
   "metadata": {},
   "source": [
    "by plotting data with boxplot we can clearly see that there are many outliers and the data is right skewed as well for volume ,here the yellow line indicates the median which is at around 4"
   ]
  },
  {
   "cell_type": "code",
   "execution_count": 83,
   "id": "7bbfa888",
   "metadata": {},
   "outputs": [
    {
     "data": {
      "image/png": "[encoded data removed]",
      "text/plain": [
       "<Figure size 640x480 with 1 Axes>"
      ]
     },
     "metadata": {},
     "output_type": "display_data"
    }
   ],
   "source": [
    "plt.boxplot(df2 ,vert=False)\n",
    "plt.xlabel(\"Avg price\")\n",
    "\n",
    "plt.title(\"BOXPLOT OF Average Price\")\n",
    "plt.show()"
   ]
  },
  {
   "cell_type": "markdown",
   "id": "69731938",
   "metadata": {},
   "source": [
    "in this we can see that there are 4 outliers and the data is very much right skewed ,yellow line here indicates the median which is at around 1000 "
   ]
  },
  {
   "cell_type": "code",
   "execution_count": 76,
   "id": "898e6912",
   "metadata": {},
   "outputs": [
    {
     "data": {
      "image/png": "[encoded data removed]",
      "text/plain": [
       "<Figure size 640x480 with 1 Axes>"
      ]
     },
     "metadata": {},
     "output_type": "display_data"
    }
   ],
   "source": [
    "plt.boxplot(df3 ,vert=False)\n",
    "plt.xlabel(\"Total Sales Value \")\n",
    "plt.ylabel(\"Values\")\n",
    "plt.title(\"BOXPLOT OF Total Sales Value\")\n",
    "plt.show()"
   ]
  },
  {
   "cell_type": "markdown",
   "id": "ac0081d1",
   "metadata": {},
   "source": [
    "in this we can see the data is right skewed asnd there are many outliers after 125000 here the yellow line indicate sthe median which is at aaround 10000"
   ]
  },
  {
   "cell_type": "code",
   "execution_count": 79,
   "id": "dae248df",
   "metadata": {},
   "outputs": [
    {
     "data": {
      "image/png": "[encoded data removed]",
      "text/plain": [
       "<Figure size 640x480 with 1 Axes>"
      ]
     },
     "metadata": {},
     "output_type": "display_data"
    }
   ],
   "source": [
    "plt.boxplot(df4 ,vert=False)\n",
    "plt.xlabel(\"Discount Rate% \")\n",
    "plt.ylabel(\"Values\")\n",
    "plt.title(\"BOXPLOT OF Discount Rate%\")\n",
    "plt.show()"
   ]
  },
  {
   "cell_type": "markdown",
   "id": "a8699acf",
   "metadata": {},
   "source": [
    "here we see that our data is left skewed and there are many outliers on the left side of the dta that means there aew outliers on the lower end of the data,here the yellow line indicates the median which is at around 17"
   ]
  },
  {
   "cell_type": "code",
   "execution_count": 80,
   "id": "5be3b042",
   "metadata": {},
   "outputs": [
    {
     "data": {
      "image/png": "[encoded data removed]",
      "text/plain": [
       "<Figure size 640x480 with 1 Axes>"
      ]
     },
     "metadata": {},
     "output_type": "display_data"
    }
   ],
   "source": [
    "plt.boxplot(df5 ,vert=False)\n",
    "plt.xlabel(\"Discount Amount \")\n",
    "plt.ylabel(\"Values\")\n",
    "plt.title(\"BOXPLOT OF Discount Amount\")\n",
    "plt.show()"
   ]
  },
  {
   "cell_type": "markdown",
   "id": "ae55945f",
   "metadata": {},
   "source": [
    "here the data is right skewed and there are outliers alot here the median is at around 1000"
   ]
  },
  {
   "cell_type": "code",
   "execution_count": 81,
   "id": "89f6d91a",
   "metadata": {},
   "outputs": [
    {
     "data": {
      "image/png": "[encoded data removed]",
      "text/plain": [
       "<Figure size 640x480 with 1 Axes>"
      ]
     },
     "metadata": {},
     "output_type": "display_data"
    }
   ],
   "source": [
    "plt.boxplot(df6 ,vert=False)\n",
    "plt.xlabel(\"Net Sales Value  \")\n",
    "plt.ylabel(\"Values\")\n",
    "plt.title(\"BOXPLOT OF Net Sales Value\")\n",
    "plt.show()"
   ]
  },
  {
   "cell_type": "markdown",
   "id": "c4c51f8b",
   "metadata": {},
   "source": [
    "here the data is right skewedand there are outliers on the right side of the data that is the upper end of the daata,here the median is at around 10k"
   ]
  },
  {
   "cell_type": "markdown",
   "id": "7e842b5b",
   "metadata": {},
   "source": [
    "### THE ABOVE PLOTTING IS DONE USING MATPLOTLIB LIBRARY WE CAN ASLO DO THIS USING SEABORN below is the example"
   ]
  },
  {
   "cell_type": "code",
   "execution_count": 86,
   "id": "bff0a01d",
   "metadata": {},
   "outputs": [
    {
     "data": {
      "image/png": "[encoded data removed]",
      "text/plain": [
       "<Figure size 640x480 with 1 Axes>"
      ]
     },
     "metadata": {},
     "output_type": "display_data"
    }
   ],
   "source": [
    "sns.boxplot(df3,orient=\"h\")\n",
    "plt.xlabel(\"Discount Rate% \")\n",
    "plt.ylabel(\"Values\")\n",
    "plt.title(\"BOXPLOT OF Discount Rate%\")\n",
    "plt.show()"
   ]
  },
  {
   "cell_type": "markdown",
   "id": "dd9d9689",
   "metadata": {},
   "source": [
    "## we have done all are visualization on numerical data we can also perform bar plot on categorical data"
   ]
  },
  {
   "cell_type": "code",
   "execution_count": 87,
   "id": "78564cf2",
   "metadata": {},
   "outputs": [
    {
     "name": "stdout",
     "output_type": "stream",
     "text": [
      "<class 'pandas.core.frame.DataFrame'>\n",
      "RangeIndex: 450 entries, 0 to 449\n",
      "Data columns (total 13 columns):\n",
      " #   Column             Non-Null Count  Dtype  \n",
      "---  ------             --------------  -----  \n",
      " 0   Date               450 non-null    object \n",
      " 1   Day                450 non-null    object \n",
      " 2   SKU                450 non-null    object \n",
      " 3   City               450 non-null    object \n",
      " 4   Volume             450 non-null    int64  \n",
      " 5   BU                 450 non-null    object \n",
      " 6   Brand              450 non-null    object \n",
      " 7   Model              450 non-null    object \n",
      " 8   Avg Price          450 non-null    int64  \n",
      " 9   Total Sales Value  450 non-null    int64  \n",
      " 10  Discount Rate (%)  450 non-null    float64\n",
      " 11  Discount Amount    450 non-null    float64\n",
      " 12  Net Sales Value    450 non-null    float64\n",
      "dtypes: float64(3), int64(3), object(7)\n",
      "memory usage: 45.8+ KB\n"
     ]
    }
   ],
   "source": [
    "df.info()"
   ]
  },
  {
   "cell_type": "code",
   "execution_count": 88,
   "id": "025fbc1a",
   "metadata": {},
   "outputs": [],
   "source": [
    "#we've got total 7 categorical data and we can plot barplots using both seaborn library as well as matplotlib"
   ]
  },
  {
   "cell_type": "code",
   "execution_count": 4,
   "id": "9dbd3f73",
   "metadata": {},
   "outputs": [],
   "source": [
    "cat1=df[\"Date\"]"
   ]
  },
  {
   "cell_type": "code",
   "execution_count": 5,
   "id": "f92ebb80",
   "metadata": {},
   "outputs": [],
   "source": [
    "cat2=df[\"Day\"]"
   ]
  },
  {
   "cell_type": "code",
   "execution_count": 6,
   "id": "9a1af3a1",
   "metadata": {},
   "outputs": [],
   "source": [
    "cat3=df[\"SKU\"]"
   ]
  },
  {
   "cell_type": "code",
   "execution_count": 7,
   "id": "a79ae393",
   "metadata": {},
   "outputs": [],
   "source": [
    "cat4=df[\"City\"]"
   ]
  },
  {
   "cell_type": "code",
   "execution_count": 8,
   "id": "23b94f4c",
   "metadata": {},
   "outputs": [],
   "source": [
    "cat5=df[\"BU\"]"
   ]
  },
  {
   "cell_type": "code",
   "execution_count": 9,
   "id": "c3772369",
   "metadata": {},
   "outputs": [],
   "source": [
    "cat6=df[\"Brand\"]"
   ]
  },
  {
   "cell_type": "code",
   "execution_count": 10,
   "id": "1e504493",
   "metadata": {},
   "outputs": [],
   "source": [
    "cat7=df[\"Model\"]"
   ]
  },
  {
   "cell_type": "code",
   "execution_count": 115,
   "id": "032487c0",
   "metadata": {},
   "outputs": [
    {
     "data": {
      "image/png": "[encoded data removed]",
      "text/plain": [
       "<Figure size 1800x800 with 1 Axes>"
      ]
     },
     "metadata": {},
     "output_type": "display_data"
    }
   ],
   "source": [
    "plt.figure(figsize=(18,8))\n",
    "plt.bar(cat1,df6)\n",
    "plt.xlabel(\"Date\")\n",
    "plt.ylabel(\"Net Sales Value\")\n",
    "plt.title(\"Bar Plot based on date and net sales\")\n",
    "plt.show()"
   ]
  },
  {
   "cell_type": "markdown",
   "id": "3ad25515",
   "metadata": {},
   "source": [
    "## with this observation we can say that 2nd april has the highest net sales"
   ]
  },
  {
   "cell_type": "code",
   "execution_count": 118,
   "id": "345fcdb1",
   "metadata": {},
   "outputs": [
    {
     "data": {
      "image/png": "[encoded data removed]",
      "text/plain": [
       "<Figure size 800x600 with 1 Axes>"
      ]
     },
     "metadata": {},
     "output_type": "display_data"
    }
   ],
   "source": [
    "plt.figure(figsize=(8,6))\n",
    "plt.bar(cat2,df6,color=\"red\")\n",
    "plt.xlabel(\"Day\")\n",
    "plt.ylabel(\"Net Sales Value\")\n",
    "plt.title(\"Bar Plot based on day and net sales\")\n",
    "plt.show()"
   ]
  },
  {
   "cell_type": "markdown",
   "id": "dc4b04f0",
   "metadata": {},
   "source": [
    "## we this observation we can say that the highest net sales happen on saturdays"
   ]
  },
  {
   "cell_type": "code",
   "execution_count": 119,
   "id": "d0bbd4f5",
   "metadata": {},
   "outputs": [
    {
     "data": {
      "image/png": "[encoded data removed]",
      "text/plain": [
       "<Figure size 1500x600 with 1 Axes>"
      ]
     },
     "metadata": {},
     "output_type": "display_data"
    }
   ],
   "source": [
    "plt.figure(figsize=(15,6))\n",
    "plt.bar(cat3,df6,color=\"pink\")\n",
    "plt.xlabel(\"SKU\")\n",
    "plt.ylabel(\"Net Sales Value\")\n",
    "plt.title(\"Bar Plot based on SKU and net sales\")\n",
    "plt.show()"
   ]
  },
  {
   "cell_type": "markdown",
   "id": "0013bbd7",
   "metadata": {},
   "source": [
    "## with this observation we can say that the sku M07 has the highest net sales"
   ]
  },
  {
   "cell_type": "code",
   "execution_count": 121,
   "id": "695b9ded",
   "metadata": {},
   "outputs": [
    {
     "data": {
      "image/png": "[encoded data removed]",
      "text/plain": [
       "<Figure size 800x600 with 1 Axes>"
      ]
     },
     "metadata": {},
     "output_type": "display_data"
    }
   ],
   "source": [
    "plt.figure(figsize=(8,6))\n",
    "plt.bar(cat4,df6,color=\"purple\")\n",
    "plt.xlabel(\"City\")\n",
    "plt.ylabel(\"Net Sales Value\")\n",
    "plt.title(\"Bar Plot based on City and net sales\")\n",
    "plt.show()"
   ]
  },
  {
   "cell_type": "markdown",
   "id": "83a73a92",
   "metadata": {},
   "source": [
    "## based on the data provided there is only one city named C which has net sales of $1,75000\n"
   ]
  },
  {
   "cell_type": "code",
   "execution_count": 124,
   "id": "9ecdda79",
   "metadata": {},
   "outputs": [
    {
     "data": {
      "image/png": "[encoded data removed]",
      "text/plain": [
       "<Figure size 800x600 with 1 Axes>"
      ]
     },
     "metadata": {},
     "output_type": "display_data"
    }
   ],
   "source": [
    "plt.figure(figsize=(8,6))\n",
    "plt.bar(cat5,df6,color=\"orange\")\n",
    "plt.xlabel(\"BU\")\n",
    "plt.ylabel(\"Net Sales Value\")\n",
    "plt.title(\"Bar Plot based on BU and net sales\")\n",
    "plt.show()"
   ]
  },
  {
   "cell_type": "markdown",
   "id": "f4cab091",
   "metadata": {},
   "source": [
    "## based on the above observation we can say that the highest net sales are in mobiles business unit"
   ]
  },
  {
   "cell_type": "code",
   "execution_count": 125,
   "id": "97063500",
   "metadata": {},
   "outputs": [
    {
     "data": {
      "image/png": "[encoded data removed]",
      "text/plain": [
       "<Figure size 800x600 with 1 Axes>"
      ]
     },
     "metadata": {},
     "output_type": "display_data"
    }
   ],
   "source": [
    "plt.figure(figsize=(8,6))\n",
    "plt.bar(cat6,df6,color=\"grey\")\n",
    "plt.xlabel(\"Brand\")\n",
    "plt.ylabel(\"Net Sales Value\")\n",
    "plt.title(\"Bar Plot based on Brand and net sales\")\n",
    "plt.show()\n"
   ]
  },
  {
   "cell_type": "markdown",
   "id": "a2755338",
   "metadata": {},
   "source": [
    "## based in the above observation we can say that theh highest net sales are in brand \"samsung\""
   ]
  },
  {
   "cell_type": "code",
   "execution_count": 132,
   "id": "5905e83e",
   "metadata": {},
   "outputs": [
    {
     "data": {
      "image/png": "[encoded data removed]",
      "text/plain": [
       "<Figure size 3000x1400 with 1 Axes>"
      ]
     },
     "metadata": {},
     "output_type": "display_data"
    }
   ],
   "source": [
    "plt.figure(figsize=(30,14))\n",
    "plt.bar(cat7,df6,color =\"black\")\n",
    "plt.xlabel(\"Model\")\n",
    "plt.ylabel(\"Net Sales Value\")\n",
    "plt.title(\"Bar Plot based on Model and net sales\")\n",
    "plt.show()"
   ]
  },
  {
   "cell_type": "markdown",
   "id": "9cccf600",
   "metadata": {},
   "source": [
    "## based on the above observation we can say that samsung s20 model has the highest net sales"
   ]
  },
  {
   "cell_type": "markdown",
   "id": "49ab8377",
   "metadata": {},
   "source": [
    "# Standardization -Meaning\n",
    "## standardization of data is done to prevent the situation of data having different scales ,this step is applied before the preprocessing of algorithms in machine learning,it help  by  making it easy for machine /algorithms  to understand the data .this also helps in avoiding the situation where data learning or analysing is biased.it is also called z-score normalization.This method can only be applied to numerical data\n",
    "the formula for z-score normalization technique is : z=x-mu/sigma where x stands for variable and mu stands for mean and sigma stands for standard deviation."
   ]
  },
  {
   "cell_type": "code",
   "execution_count": null,
   "id": "41156019",
   "metadata": {},
   "outputs": [],
   "source": [
    "#this is how the data will look after it gets standardized based on the above formula"
   ]
  },
  {
   "cell_type": "code",
   "execution_count": 17,
   "id": "defb1ff4",
   "metadata": {},
   "outputs": [],
   "source": [
    "df_num=pd.concat([df1,df2,df3,df4,df5,df6],axis=1)"
   ]
  },
  {
   "cell_type": "code",
   "execution_count": null,
   "id": "349482ee",
   "metadata": {},
   "outputs": [],
   "source": [
    "#now we'll find the means and standard deviations of all the concatenated numerical data set df_num"
   ]
  },
  {
   "cell_type": "code",
   "execution_count": 18,
   "id": "5250e6af",
   "metadata": {},
   "outputs": [],
   "source": [
    "means=df_num.mean()"
   ]
  },
  {
   "cell_type": "code",
   "execution_count": 19,
   "id": "6dffb57d",
   "metadata": {},
   "outputs": [],
   "source": [
    "stds=df_num.std()"
   ]
  },
  {
   "cell_type": "code",
   "execution_count": null,
   "id": "075b918b",
   "metadata": {},
   "outputs": [],
   "source": [
    "#we will now apply the formula z=x-mu/sigma"
   ]
  },
  {
   "cell_type": "code",
   "execution_count": 22,
   "id": "5ee0812e",
   "metadata": {},
   "outputs": [],
   "source": [
    "standardized_df=(df_num - means)/stds"
   ]
  },
  {
   "cell_type": "code",
   "execution_count": 23,
   "id": "6d6a05f1",
   "metadata": {},
   "outputs": [
    {
     "data": {
      "text/html": [
       "<div>\n",
       "<style scoped>\n",
       "    .dataframe tbody tr th:only-of-type {\n",
       "        vertical-align: middle;\n",
       "    }\n",
       "\n",
       "    .dataframe tbody tr th {\n",
       "        vertical-align: top;\n",
       "    }\n",
       "\n",
       "    .dataframe thead th {\n",
       "        text-align: right;\n",
       "    }\n",
       "</style>\n",
       "<table border=\"1\" class=\"dataframe\">\n",
       "  <thead>\n",
       "    <tr style=\"text-align: right;\">\n",
       "      <th></th>\n",
       "      <th>Volume</th>\n",
       "      <th>Avg Price</th>\n",
       "      <th>Total Sales Value</th>\n",
       "      <th>Discount Rate (%)</th>\n",
       "      <th>Discount Amount</th>\n",
       "      <th>Net Sales Value</th>\n",
       "    </tr>\n",
       "  </thead>\n",
       "  <tbody>\n",
       "    <tr>\n",
       "      <th>0</th>\n",
       "      <td>2.347417</td>\n",
       "      <td>0.091072</td>\n",
       "      <td>2.922469</td>\n",
       "      <td>-0.829365</td>\n",
       "      <td>3.948422</td>\n",
       "      <td>2.801638</td>\n",
       "    </tr>\n",
       "    <tr>\n",
       "      <th>1</th>\n",
       "      <td>1.165831</td>\n",
       "      <td>-0.019548</td>\n",
       "      <td>1.329516</td>\n",
       "      <td>-0.851714</td>\n",
       "      <td>1.846958</td>\n",
       "      <td>1.269613</td>\n",
       "    </tr>\n",
       "    <tr>\n",
       "      <th>2</th>\n",
       "      <td>0.456880</td>\n",
       "      <td>0.312312</td>\n",
       "      <td>1.561038</td>\n",
       "      <td>-1.350129</td>\n",
       "      <td>1.621190</td>\n",
       "      <td>1.543957</td>\n",
       "    </tr>\n",
       "    <tr>\n",
       "      <th>3</th>\n",
       "      <td>0.220563</td>\n",
       "      <td>0.533552</td>\n",
       "      <td>1.717365</td>\n",
       "      <td>-1.947555</td>\n",
       "      <td>1.112568</td>\n",
       "      <td>1.763847</td>\n",
       "    </tr>\n",
       "    <tr>\n",
       "      <th>4</th>\n",
       "      <td>-0.488389</td>\n",
       "      <td>-0.130168</td>\n",
       "      <td>-0.188242</td>\n",
       "      <td>0.672990</td>\n",
       "      <td>0.227598</td>\n",
       "      <td>-0.227342</td>\n",
       "    </tr>\n",
       "    <tr>\n",
       "      <th>...</th>\n",
       "      <td>...</td>\n",
       "      <td>...</td>\n",
       "      <td>...</td>\n",
       "      <td>...</td>\n",
       "      <td>...</td>\n",
       "      <td>...</td>\n",
       "    </tr>\n",
       "    <tr>\n",
       "      <th>445</th>\n",
       "      <td>-0.724706</td>\n",
       "      <td>-0.506277</td>\n",
       "      <td>-0.617647</td>\n",
       "      <td>0.075924</td>\n",
       "      <td>-0.652815</td>\n",
       "      <td>-0.609783</td>\n",
       "    </tr>\n",
       "    <tr>\n",
       "      <th>446</th>\n",
       "      <td>0.220563</td>\n",
       "      <td>-0.434374</td>\n",
       "      <td>-0.360400</td>\n",
       "      <td>0.450596</td>\n",
       "      <td>-0.152022</td>\n",
       "      <td>-0.378079</td>\n",
       "    </tr>\n",
       "    <tr>\n",
       "      <th>447</th>\n",
       "      <td>-0.724706</td>\n",
       "      <td>-0.489684</td>\n",
       "      <td>-0.605774</td>\n",
       "      <td>0.902788</td>\n",
       "      <td>-0.607464</td>\n",
       "      <td>-0.601252</td>\n",
       "    </tr>\n",
       "    <tr>\n",
       "      <th>448</th>\n",
       "      <td>-0.488389</td>\n",
       "      <td>-0.473091</td>\n",
       "      <td>-0.556303</td>\n",
       "      <td>0.388042</td>\n",
       "      <td>-0.529789</td>\n",
       "      <td>-0.554881</td>\n",
       "    </tr>\n",
       "    <tr>\n",
       "      <th>449</th>\n",
       "      <td>-0.961023</td>\n",
       "      <td>-0.406719</td>\n",
       "      <td>-0.607753</td>\n",
       "      <td>0.042188</td>\n",
       "      <td>-0.636636</td>\n",
       "      <td>-0.600571</td>\n",
       "    </tr>\n",
       "  </tbody>\n",
       "</table>\n",
       "<p>450 rows × 6 columns</p>\n",
       "</div>"
      ],
      "text/plain": [
       "       Volume  Avg Price  Total Sales Value  Discount Rate (%)  \\\n",
       "0    2.347417   0.091072           2.922469          -0.829365   \n",
       "1    1.165831  -0.019548           1.329516          -0.851714   \n",
       "2    0.456880   0.312312           1.561038          -1.350129   \n",
       "3    0.220563   0.533552           1.717365          -1.947555   \n",
       "4   -0.488389  -0.130168          -0.188242           0.672990   \n",
       "..        ...        ...                ...                ...   \n",
       "445 -0.724706  -0.506277          -0.617647           0.075924   \n",
       "446  0.220563  -0.434374          -0.360400           0.450596   \n",
       "447 -0.724706  -0.489684          -0.605774           0.902788   \n",
       "448 -0.488389  -0.473091          -0.556303           0.388042   \n",
       "449 -0.961023  -0.406719          -0.607753           0.042188   \n",
       "\n",
       "     Discount Amount  Net Sales Value  \n",
       "0           3.948422         2.801638  \n",
       "1           1.846958         1.269613  \n",
       "2           1.621190         1.543957  \n",
       "3           1.112568         1.763847  \n",
       "4           0.227598        -0.227342  \n",
       "..               ...              ...  \n",
       "445        -0.652815        -0.609783  \n",
       "446        -0.152022        -0.378079  \n",
       "447        -0.607464        -0.601252  \n",
       "448        -0.529789        -0.554881  \n",
       "449        -0.636636        -0.600571  \n",
       "\n",
       "[450 rows x 6 columns]"
      ]
     },
     "execution_count": 23,
     "metadata": {},
     "output_type": "execute_result"
    }
   ],
   "source": [
    "standardized_df #here we get all the standardized  data here "
   ]
  },
  {
   "cell_type": "code",
   "execution_count": 24,
   "id": "7b2afc96",
   "metadata": {},
   "outputs": [],
   "source": [
    "# WE CAN COMPARE STANDARDIZED DATA AND NON STANDARDIZED DATA WITH THE METHOD BELOW"
   ]
  },
  {
   "cell_type": "code",
   "execution_count": 25,
   "id": "c9ca4c27",
   "metadata": {},
   "outputs": [
    {
     "name": "stdout",
     "output_type": "stream",
     "text": [
      "NOn-standardized data:\n",
      "     Volume  Avg Price  Total Sales Value  Discount Rate (%)  Discount Amount  \\\n",
      "0        15      12100             181500          11.654820     21153.498820   \n",
      "1        10      10100             101000          11.560498     11676.102961   \n",
      "2         7      16100             112700           9.456886     10657.910157   \n",
      "3         6      20100             120600           6.935385      8364.074702   \n",
      "4         3       8100              24300          17.995663      4372.946230   \n",
      "..      ...        ...                ...                ...              ...   \n",
      "445       2       1300               2600          15.475687       402.367873   \n",
      "446       6       2600              15600          17.057027      2660.896242   \n",
      "447       2       1600               3200          18.965550       606.897606   \n",
      "448       3       1900               5700          16.793014       957.201826   \n",
      "449       1       3100               3100          15.333300       475.332295   \n",
      "\n",
      "     Net Sales Value  \n",
      "0      160346.501180  \n",
      "1       89323.897039  \n",
      "2      102042.089843  \n",
      "3      112235.925298  \n",
      "4       19927.053770  \n",
      "..               ...  \n",
      "445      2197.632127  \n",
      "446     12939.103758  \n",
      "447      2593.102394  \n",
      "448      4742.798174  \n",
      "449      2624.667705  \n",
      "\n",
      "[450 rows x 6 columns]\n",
      "Standardized data:\n",
      "       Volume  Avg Price  Total Sales Value  Discount Rate (%)  \\\n",
      "0    2.347417   0.091072           2.922469          -0.829365   \n",
      "1    1.165831  -0.019548           1.329516          -0.851714   \n",
      "2    0.456880   0.312312           1.561038          -1.350129   \n",
      "3    0.220563   0.533552           1.717365          -1.947555   \n",
      "4   -0.488389  -0.130168          -0.188242           0.672990   \n",
      "..        ...        ...                ...                ...   \n",
      "445 -0.724706  -0.506277          -0.617647           0.075924   \n",
      "446  0.220563  -0.434374          -0.360400           0.450596   \n",
      "447 -0.724706  -0.489684          -0.605774           0.902788   \n",
      "448 -0.488389  -0.473091          -0.556303           0.388042   \n",
      "449 -0.961023  -0.406719          -0.607753           0.042188   \n",
      "\n",
      "     Discount Amount  Net Sales Value  \n",
      "0           3.948422         2.801638  \n",
      "1           1.846958         1.269613  \n",
      "2           1.621190         1.543957  \n",
      "3           1.112568         1.763847  \n",
      "4           0.227598        -0.227342  \n",
      "..               ...              ...  \n",
      "445        -0.652815        -0.609783  \n",
      "446        -0.152022        -0.378079  \n",
      "447        -0.607464        -0.601252  \n",
      "448        -0.529789        -0.554881  \n",
      "449        -0.636636        -0.600571  \n",
      "\n",
      "[450 rows x 6 columns]\n"
     ]
    }
   ],
   "source": [
    "print(\"NOn-standardized data:\")\n",
    "print(df_num)\n",
    "print(\"Standardized data:\")\n",
    "print(standardized_df)"
   ]
  },
  {
   "cell_type": "markdown",
   "id": "628c5289",
   "metadata": {},
   "source": [
    "# here we can see that almost all the standardized data lies between -3 to +3,this converts big numbers to small standardized numbers making it easy for the machine to calculate and provide better accuracy with comparatively a lesser residual percentage.\n"
   ]
  },
  {
   "cell_type": "markdown",
   "id": "77b72ac9",
   "metadata": {},
   "source": [
    "# "
   ]
  },
  {
   "cell_type": "markdown",
   "id": "71e8794c",
   "metadata": {},
   "source": [
    "# ONE HOT ENCODING /LABEL ENCODING "
   ]
  },
  {
   "cell_type": "markdown",
   "id": "62f5be9d",
   "metadata": {},
   "source": [
    "### This step is applicable for all the categorical variables,as our data can also be in categorical variables,label encoding gives integer variable to each of the catgorical value in a particular target column as 0 or 1 or 2 where as one hot encoding transforms each of the categorical variable in the original string column to a new ctegorical column ,this way its treating each catgory as a separate column and it assigns a binary number 1 if its present in the original column else o .label encoding /one hot encoding is an essential step to handle the categorical variables as machine learning algorithm works only for numerical values,this step makes it easy for machine learning algorithm to understand values which are of string type."
   ]
  },
  {
   "cell_type": "code",
   "execution_count": null,
   "id": "86e764ae",
   "metadata": {},
   "outputs": [],
   "source": [
    "#we can use pandas library for one hot encoding and scikitlearn library for label encoding"
   ]
  },
  {
   "cell_type": "markdown",
   "id": "04bf329d",
   "metadata": {},
   "source": [
    "we already created a new variable for each of the categorical columns above we'll just combine them into one categorical dataset"
   ]
  },
  {
   "cell_type": "code",
   "execution_count": 11,
   "id": "60ca3869",
   "metadata": {},
   "outputs": [],
   "source": [
    "catcol_df=pd.concat([cat1,cat2,cat3,cat4,cat5,cat6],axis=1)"
   ]
  },
  {
   "cell_type": "code",
   "execution_count": 12,
   "id": "5f597e19",
   "metadata": {},
   "outputs": [
    {
     "data": {
      "text/html": [
       "<div>\n",
       "<style scoped>\n",
       "    .dataframe tbody tr th:only-of-type {\n",
       "        vertical-align: middle;\n",
       "    }\n",
       "\n",
       "    .dataframe tbody tr th {\n",
       "        vertical-align: top;\n",
       "    }\n",
       "\n",
       "    .dataframe thead th {\n",
       "        text-align: right;\n",
       "    }\n",
       "</style>\n",
       "<table border=\"1\" class=\"dataframe\">\n",
       "  <thead>\n",
       "    <tr style=\"text-align: right;\">\n",
       "      <th></th>\n",
       "      <th>Date</th>\n",
       "      <th>Day</th>\n",
       "      <th>SKU</th>\n",
       "      <th>City</th>\n",
       "      <th>BU</th>\n",
       "      <th>Brand</th>\n",
       "    </tr>\n",
       "  </thead>\n",
       "  <tbody>\n",
       "    <tr>\n",
       "      <th>0</th>\n",
       "      <td>01-04-2021</td>\n",
       "      <td>Thursday</td>\n",
       "      <td>M01</td>\n",
       "      <td>C</td>\n",
       "      <td>Mobiles</td>\n",
       "      <td>RealU</td>\n",
       "    </tr>\n",
       "    <tr>\n",
       "      <th>1</th>\n",
       "      <td>01-04-2021</td>\n",
       "      <td>Thursday</td>\n",
       "      <td>M02</td>\n",
       "      <td>C</td>\n",
       "      <td>Mobiles</td>\n",
       "      <td>RealU</td>\n",
       "    </tr>\n",
       "    <tr>\n",
       "      <th>2</th>\n",
       "      <td>01-04-2021</td>\n",
       "      <td>Thursday</td>\n",
       "      <td>M03</td>\n",
       "      <td>C</td>\n",
       "      <td>Mobiles</td>\n",
       "      <td>YouM</td>\n",
       "    </tr>\n",
       "    <tr>\n",
       "      <th>3</th>\n",
       "      <td>01-04-2021</td>\n",
       "      <td>Thursday</td>\n",
       "      <td>M04</td>\n",
       "      <td>C</td>\n",
       "      <td>Mobiles</td>\n",
       "      <td>YouM</td>\n",
       "    </tr>\n",
       "    <tr>\n",
       "      <th>4</th>\n",
       "      <td>01-04-2021</td>\n",
       "      <td>Thursday</td>\n",
       "      <td>M05</td>\n",
       "      <td>C</td>\n",
       "      <td>Mobiles</td>\n",
       "      <td>YouM</td>\n",
       "    </tr>\n",
       "    <tr>\n",
       "      <th>...</th>\n",
       "      <td>...</td>\n",
       "      <td>...</td>\n",
       "      <td>...</td>\n",
       "      <td>...</td>\n",
       "      <td>...</td>\n",
       "      <td>...</td>\n",
       "    </tr>\n",
       "    <tr>\n",
       "      <th>445</th>\n",
       "      <td>15-04-2021</td>\n",
       "      <td>Thursday</td>\n",
       "      <td>L06</td>\n",
       "      <td>C</td>\n",
       "      <td>Lifestyle</td>\n",
       "      <td>Jeera</td>\n",
       "    </tr>\n",
       "    <tr>\n",
       "      <th>446</th>\n",
       "      <td>15-04-2021</td>\n",
       "      <td>Thursday</td>\n",
       "      <td>L07</td>\n",
       "      <td>C</td>\n",
       "      <td>Lifestyle</td>\n",
       "      <td>Viva</td>\n",
       "    </tr>\n",
       "    <tr>\n",
       "      <th>447</th>\n",
       "      <td>15-04-2021</td>\n",
       "      <td>Thursday</td>\n",
       "      <td>L08</td>\n",
       "      <td>C</td>\n",
       "      <td>Lifestyle</td>\n",
       "      <td>Viva</td>\n",
       "    </tr>\n",
       "    <tr>\n",
       "      <th>448</th>\n",
       "      <td>15-04-2021</td>\n",
       "      <td>Thursday</td>\n",
       "      <td>L09</td>\n",
       "      <td>C</td>\n",
       "      <td>Lifestyle</td>\n",
       "      <td>Jeera</td>\n",
       "    </tr>\n",
       "    <tr>\n",
       "      <th>449</th>\n",
       "      <td>15-04-2021</td>\n",
       "      <td>Thursday</td>\n",
       "      <td>L10</td>\n",
       "      <td>C</td>\n",
       "      <td>Lifestyle</td>\n",
       "      <td>Jeera</td>\n",
       "    </tr>\n",
       "  </tbody>\n",
       "</table>\n",
       "<p>450 rows × 6 columns</p>\n",
       "</div>"
      ],
      "text/plain": [
       "           Date       Day  SKU City         BU  Brand\n",
       "0    01-04-2021  Thursday  M01    C    Mobiles  RealU\n",
       "1    01-04-2021  Thursday  M02    C    Mobiles  RealU\n",
       "2    01-04-2021  Thursday  M03    C    Mobiles   YouM\n",
       "3    01-04-2021  Thursday  M04    C    Mobiles   YouM\n",
       "4    01-04-2021  Thursday  M05    C    Mobiles   YouM\n",
       "..          ...       ...  ...  ...        ...    ...\n",
       "445  15-04-2021  Thursday  L06    C  Lifestyle  Jeera\n",
       "446  15-04-2021  Thursday  L07    C  Lifestyle   Viva\n",
       "447  15-04-2021  Thursday  L08    C  Lifestyle   Viva\n",
       "448  15-04-2021  Thursday  L09    C  Lifestyle  Jeera\n",
       "449  15-04-2021  Thursday  L10    C  Lifestyle  Jeera\n",
       "\n",
       "[450 rows x 6 columns]"
      ]
     },
     "execution_count": 12,
     "metadata": {},
     "output_type": "execute_result"
    }
   ],
   "source": [
    "catcol_df"
   ]
  },
  {
   "cell_type": "code",
   "execution_count": 14,
   "id": "d01c9689",
   "metadata": {},
   "outputs": [],
   "source": [
    "df_one_hotencoded=pd.get_dummies(catcol_df)"
   ]
  },
  {
   "cell_type": "code",
   "execution_count": 15,
   "id": "81e49559",
   "metadata": {},
   "outputs": [
    {
     "data": {
      "text/html": [
       "<div>\n",
       "<style scoped>\n",
       "    .dataframe tbody tr th:only-of-type {\n",
       "        vertical-align: middle;\n",
       "    }\n",
       "\n",
       "    .dataframe tbody tr th {\n",
       "        vertical-align: top;\n",
       "    }\n",
       "\n",
       "    .dataframe thead th {\n",
       "        text-align: right;\n",
       "    }\n",
       "</style>\n",
       "<table border=\"1\" class=\"dataframe\">\n",
       "  <thead>\n",
       "    <tr style=\"text-align: right;\">\n",
       "      <th></th>\n",
       "      <th>Date_01-04-2021</th>\n",
       "      <th>Date_02-04-2021</th>\n",
       "      <th>Date_03-04-2021</th>\n",
       "      <th>Date_04-04-2021</th>\n",
       "      <th>Date_05-04-2021</th>\n",
       "      <th>Date_06-04-2021</th>\n",
       "      <th>Date_07-04-2021</th>\n",
       "      <th>Date_08-04-2021</th>\n",
       "      <th>Date_09-04-2021</th>\n",
       "      <th>Date_10-04-2021</th>\n",
       "      <th>...</th>\n",
       "      <th>BU_Mobiles</th>\n",
       "      <th>Brand_Babaji</th>\n",
       "      <th>Brand_Gear</th>\n",
       "      <th>Brand_Jeera</th>\n",
       "      <th>Brand_Orange</th>\n",
       "      <th>Brand_RealU</th>\n",
       "      <th>Brand_Sumsang</th>\n",
       "      <th>Brand_Vedic</th>\n",
       "      <th>Brand_Viva</th>\n",
       "      <th>Brand_YouM</th>\n",
       "    </tr>\n",
       "  </thead>\n",
       "  <tbody>\n",
       "    <tr>\n",
       "      <th>0</th>\n",
       "      <td>True</td>\n",
       "      <td>False</td>\n",
       "      <td>False</td>\n",
       "      <td>False</td>\n",
       "      <td>False</td>\n",
       "      <td>False</td>\n",
       "      <td>False</td>\n",
       "      <td>False</td>\n",
       "      <td>False</td>\n",
       "      <td>False</td>\n",
       "      <td>...</td>\n",
       "      <td>True</td>\n",
       "      <td>False</td>\n",
       "      <td>False</td>\n",
       "      <td>False</td>\n",
       "      <td>False</td>\n",
       "      <td>True</td>\n",
       "      <td>False</td>\n",
       "      <td>False</td>\n",
       "      <td>False</td>\n",
       "      <td>False</td>\n",
       "    </tr>\n",
       "    <tr>\n",
       "      <th>1</th>\n",
       "      <td>True</td>\n",
       "      <td>False</td>\n",
       "      <td>False</td>\n",
       "      <td>False</td>\n",
       "      <td>False</td>\n",
       "      <td>False</td>\n",
       "      <td>False</td>\n",
       "      <td>False</td>\n",
       "      <td>False</td>\n",
       "      <td>False</td>\n",
       "      <td>...</td>\n",
       "      <td>True</td>\n",
       "      <td>False</td>\n",
       "      <td>False</td>\n",
       "      <td>False</td>\n",
       "      <td>False</td>\n",
       "      <td>True</td>\n",
       "      <td>False</td>\n",
       "      <td>False</td>\n",
       "      <td>False</td>\n",
       "      <td>False</td>\n",
       "    </tr>\n",
       "    <tr>\n",
       "      <th>2</th>\n",
       "      <td>True</td>\n",
       "      <td>False</td>\n",
       "      <td>False</td>\n",
       "      <td>False</td>\n",
       "      <td>False</td>\n",
       "      <td>False</td>\n",
       "      <td>False</td>\n",
       "      <td>False</td>\n",
       "      <td>False</td>\n",
       "      <td>False</td>\n",
       "      <td>...</td>\n",
       "      <td>True</td>\n",
       "      <td>False</td>\n",
       "      <td>False</td>\n",
       "      <td>False</td>\n",
       "      <td>False</td>\n",
       "      <td>False</td>\n",
       "      <td>False</td>\n",
       "      <td>False</td>\n",
       "      <td>False</td>\n",
       "      <td>True</td>\n",
       "    </tr>\n",
       "    <tr>\n",
       "      <th>3</th>\n",
       "      <td>True</td>\n",
       "      <td>False</td>\n",
       "      <td>False</td>\n",
       "      <td>False</td>\n",
       "      <td>False</td>\n",
       "      <td>False</td>\n",
       "      <td>False</td>\n",
       "      <td>False</td>\n",
       "      <td>False</td>\n",
       "      <td>False</td>\n",
       "      <td>...</td>\n",
       "      <td>True</td>\n",
       "      <td>False</td>\n",
       "      <td>False</td>\n",
       "      <td>False</td>\n",
       "      <td>False</td>\n",
       "      <td>False</td>\n",
       "      <td>False</td>\n",
       "      <td>False</td>\n",
       "      <td>False</td>\n",
       "      <td>True</td>\n",
       "    </tr>\n",
       "    <tr>\n",
       "      <th>4</th>\n",
       "      <td>True</td>\n",
       "      <td>False</td>\n",
       "      <td>False</td>\n",
       "      <td>False</td>\n",
       "      <td>False</td>\n",
       "      <td>False</td>\n",
       "      <td>False</td>\n",
       "      <td>False</td>\n",
       "      <td>False</td>\n",
       "      <td>False</td>\n",
       "      <td>...</td>\n",
       "      <td>True</td>\n",
       "      <td>False</td>\n",
       "      <td>False</td>\n",
       "      <td>False</td>\n",
       "      <td>False</td>\n",
       "      <td>False</td>\n",
       "      <td>False</td>\n",
       "      <td>False</td>\n",
       "      <td>False</td>\n",
       "      <td>True</td>\n",
       "    </tr>\n",
       "    <tr>\n",
       "      <th>...</th>\n",
       "      <td>...</td>\n",
       "      <td>...</td>\n",
       "      <td>...</td>\n",
       "      <td>...</td>\n",
       "      <td>...</td>\n",
       "      <td>...</td>\n",
       "      <td>...</td>\n",
       "      <td>...</td>\n",
       "      <td>...</td>\n",
       "      <td>...</td>\n",
       "      <td>...</td>\n",
       "      <td>...</td>\n",
       "      <td>...</td>\n",
       "      <td>...</td>\n",
       "      <td>...</td>\n",
       "      <td>...</td>\n",
       "      <td>...</td>\n",
       "      <td>...</td>\n",
       "      <td>...</td>\n",
       "      <td>...</td>\n",
       "      <td>...</td>\n",
       "    </tr>\n",
       "    <tr>\n",
       "      <th>445</th>\n",
       "      <td>False</td>\n",
       "      <td>False</td>\n",
       "      <td>False</td>\n",
       "      <td>False</td>\n",
       "      <td>False</td>\n",
       "      <td>False</td>\n",
       "      <td>False</td>\n",
       "      <td>False</td>\n",
       "      <td>False</td>\n",
       "      <td>False</td>\n",
       "      <td>...</td>\n",
       "      <td>False</td>\n",
       "      <td>False</td>\n",
       "      <td>False</td>\n",
       "      <td>True</td>\n",
       "      <td>False</td>\n",
       "      <td>False</td>\n",
       "      <td>False</td>\n",
       "      <td>False</td>\n",
       "      <td>False</td>\n",
       "      <td>False</td>\n",
       "    </tr>\n",
       "    <tr>\n",
       "      <th>446</th>\n",
       "      <td>False</td>\n",
       "      <td>False</td>\n",
       "      <td>False</td>\n",
       "      <td>False</td>\n",
       "      <td>False</td>\n",
       "      <td>False</td>\n",
       "      <td>False</td>\n",
       "      <td>False</td>\n",
       "      <td>False</td>\n",
       "      <td>False</td>\n",
       "      <td>...</td>\n",
       "      <td>False</td>\n",
       "      <td>False</td>\n",
       "      <td>False</td>\n",
       "      <td>False</td>\n",
       "      <td>False</td>\n",
       "      <td>False</td>\n",
       "      <td>False</td>\n",
       "      <td>False</td>\n",
       "      <td>True</td>\n",
       "      <td>False</td>\n",
       "    </tr>\n",
       "    <tr>\n",
       "      <th>447</th>\n",
       "      <td>False</td>\n",
       "      <td>False</td>\n",
       "      <td>False</td>\n",
       "      <td>False</td>\n",
       "      <td>False</td>\n",
       "      <td>False</td>\n",
       "      <td>False</td>\n",
       "      <td>False</td>\n",
       "      <td>False</td>\n",
       "      <td>False</td>\n",
       "      <td>...</td>\n",
       "      <td>False</td>\n",
       "      <td>False</td>\n",
       "      <td>False</td>\n",
       "      <td>False</td>\n",
       "      <td>False</td>\n",
       "      <td>False</td>\n",
       "      <td>False</td>\n",
       "      <td>False</td>\n",
       "      <td>True</td>\n",
       "      <td>False</td>\n",
       "    </tr>\n",
       "    <tr>\n",
       "      <th>448</th>\n",
       "      <td>False</td>\n",
       "      <td>False</td>\n",
       "      <td>False</td>\n",
       "      <td>False</td>\n",
       "      <td>False</td>\n",
       "      <td>False</td>\n",
       "      <td>False</td>\n",
       "      <td>False</td>\n",
       "      <td>False</td>\n",
       "      <td>False</td>\n",
       "      <td>...</td>\n",
       "      <td>False</td>\n",
       "      <td>False</td>\n",
       "      <td>False</td>\n",
       "      <td>True</td>\n",
       "      <td>False</td>\n",
       "      <td>False</td>\n",
       "      <td>False</td>\n",
       "      <td>False</td>\n",
       "      <td>False</td>\n",
       "      <td>False</td>\n",
       "    </tr>\n",
       "    <tr>\n",
       "      <th>449</th>\n",
       "      <td>False</td>\n",
       "      <td>False</td>\n",
       "      <td>False</td>\n",
       "      <td>False</td>\n",
       "      <td>False</td>\n",
       "      <td>False</td>\n",
       "      <td>False</td>\n",
       "      <td>False</td>\n",
       "      <td>False</td>\n",
       "      <td>False</td>\n",
       "      <td>...</td>\n",
       "      <td>False</td>\n",
       "      <td>False</td>\n",
       "      <td>False</td>\n",
       "      <td>True</td>\n",
       "      <td>False</td>\n",
       "      <td>False</td>\n",
       "      <td>False</td>\n",
       "      <td>False</td>\n",
       "      <td>False</td>\n",
       "      <td>False</td>\n",
       "    </tr>\n",
       "  </tbody>\n",
       "</table>\n",
       "<p>450 rows × 65 columns</p>\n",
       "</div>"
      ],
      "text/plain": [
       "     Date_01-04-2021  Date_02-04-2021  Date_03-04-2021  Date_04-04-2021  \\\n",
       "0               True            False            False            False   \n",
       "1               True            False            False            False   \n",
       "2               True            False            False            False   \n",
       "3               True            False            False            False   \n",
       "4               True            False            False            False   \n",
       "..               ...              ...              ...              ...   \n",
       "445            False            False            False            False   \n",
       "446            False            False            False            False   \n",
       "447            False            False            False            False   \n",
       "448            False            False            False            False   \n",
       "449            False            False            False            False   \n",
       "\n",
       "     Date_05-04-2021  Date_06-04-2021  Date_07-04-2021  Date_08-04-2021  \\\n",
       "0              False            False            False            False   \n",
       "1              False            False            False            False   \n",
       "2              False            False            False            False   \n",
       "3              False            False            False            False   \n",
       "4              False            False            False            False   \n",
       "..               ...              ...              ...              ...   \n",
       "445            False            False            False            False   \n",
       "446            False            False            False            False   \n",
       "447            False            False            False            False   \n",
       "448            False            False            False            False   \n",
       "449            False            False            False            False   \n",
       "\n",
       "     Date_09-04-2021  Date_10-04-2021  ...  BU_Mobiles  Brand_Babaji  \\\n",
       "0              False            False  ...        True         False   \n",
       "1              False            False  ...        True         False   \n",
       "2              False            False  ...        True         False   \n",
       "3              False            False  ...        True         False   \n",
       "4              False            False  ...        True         False   \n",
       "..               ...              ...  ...         ...           ...   \n",
       "445            False            False  ...       False         False   \n",
       "446            False            False  ...       False         False   \n",
       "447            False            False  ...       False         False   \n",
       "448            False            False  ...       False         False   \n",
       "449            False            False  ...       False         False   \n",
       "\n",
       "     Brand_Gear  Brand_Jeera  Brand_Orange  Brand_RealU  Brand_Sumsang  \\\n",
       "0         False        False         False         True          False   \n",
       "1         False        False         False         True          False   \n",
       "2         False        False         False        False          False   \n",
       "3         False        False         False        False          False   \n",
       "4         False        False         False        False          False   \n",
       "..          ...          ...           ...          ...            ...   \n",
       "445       False         True         False        False          False   \n",
       "446       False        False         False        False          False   \n",
       "447       False        False         False        False          False   \n",
       "448       False         True         False        False          False   \n",
       "449       False         True         False        False          False   \n",
       "\n",
       "     Brand_Vedic  Brand_Viva  Brand_YouM  \n",
       "0          False       False       False  \n",
       "1          False       False       False  \n",
       "2          False       False        True  \n",
       "3          False       False        True  \n",
       "4          False       False        True  \n",
       "..           ...         ...         ...  \n",
       "445        False       False       False  \n",
       "446        False        True       False  \n",
       "447        False        True       False  \n",
       "448        False       False       False  \n",
       "449        False       False       False  \n",
       "\n",
       "[450 rows x 65 columns]"
      ]
     },
     "execution_count": 15,
     "metadata": {},
     "output_type": "execute_result"
    }
   ],
   "source": [
    "df_one_hotencoded"
   ]
  },
  {
   "cell_type": "markdown",
   "id": "18951e41",
   "metadata": {},
   "source": [
    "### here we can see that it has created the column for each of the category in all columns and shown true if its present in the original column else its shown false if its not present."
   ]
  },
  {
   "cell_type": "code",
   "execution_count": null,
   "id": "f5cad769",
   "metadata": {},
   "outputs": [],
   "source": [
    "#now we can demonstrate the label encoding using the scikit library"
   ]
  },
  {
   "cell_type": "code",
   "execution_count": 16,
   "id": "49a0e747",
   "metadata": {},
   "outputs": [],
   "source": [
    "from sklearn.preprocessing import LabelEncoder"
   ]
  },
  {
   "cell_type": "code",
   "execution_count": 17,
   "id": "704274a9",
   "metadata": {},
   "outputs": [],
   "source": [
    "LE=LabelEncoder()"
   ]
  },
  {
   "cell_type": "markdown",
   "id": "a5e19205",
   "metadata": {},
   "source": [
    "for label encoding we can only transform variables in  one target column at a time ,here let's assume our target column is brands"
   ]
  },
  {
   "cell_type": "code",
   "execution_count": 19,
   "id": "234b8983",
   "metadata": {},
   "outputs": [],
   "source": [
    "df_le=pd.DataFrame(catcol_df[\"Brand\"])"
   ]
  },
  {
   "cell_type": "code",
   "execution_count": 20,
   "id": "e561698b",
   "metadata": {},
   "outputs": [
    {
     "name": "stderr",
     "output_type": "stream",
     "text": [
      "C:\\Users\\jabir\\anaconda3\\Lib\\site-packages\\sklearn\\preprocessing\\_label.py:114: DataConversionWarning: A column-vector y was passed when a 1d array was expected. Please change the shape of y to (n_samples, ), for example using ravel().\n",
      "  y = column_or_1d(y, warn=True)\n"
     ]
    }
   ],
   "source": [
    "label_encoded_df=LE.fit_transform(df_le)"
   ]
  },
  {
   "cell_type": "code",
   "execution_count": 21,
   "id": "fd43f9df",
   "metadata": {},
   "outputs": [
    {
     "data": {
      "text/plain": [
       "array([4, 4, 8, 8, 8, 4, 5, 5, 3, 3, 0, 6, 6, 0, 0, 6, 1, 1, 1, 1, 2, 2,\n",
       "       7, 7, 2, 2, 7, 7, 2, 2, 4, 4, 8, 8, 8, 4, 5, 5, 3, 3, 0, 6, 6, 0,\n",
       "       0, 6, 1, 1, 1, 1, 2, 2, 7, 7, 2, 2, 7, 7, 2, 2, 4, 4, 8, 8, 8, 4,\n",
       "       5, 5, 3, 3, 0, 6, 6, 0, 0, 6, 1, 1, 1, 1, 2, 2, 7, 7, 2, 2, 7, 7,\n",
       "       2, 2, 4, 4, 8, 8, 8, 4, 5, 5, 3, 3, 0, 6, 6, 0, 0, 6, 1, 1, 1, 1,\n",
       "       2, 2, 7, 7, 2, 2, 7, 7, 2, 2, 4, 4, 8, 8, 8, 4, 5, 5, 3, 3, 0, 6,\n",
       "       6, 0, 0, 6, 1, 1, 1, 1, 2, 2, 7, 7, 2, 2, 7, 7, 2, 2, 4, 4, 8, 8,\n",
       "       8, 4, 5, 5, 3, 3, 0, 6, 6, 0, 0, 6, 1, 1, 1, 1, 2, 2, 7, 7, 2, 2,\n",
       "       7, 7, 2, 2, 4, 4, 8, 8, 8, 4, 5, 5, 3, 3, 0, 6, 6, 0, 0, 6, 1, 1,\n",
       "       1, 1, 2, 2, 7, 7, 2, 2, 7, 7, 2, 2, 4, 4, 8, 8, 8, 4, 5, 5, 3, 3,\n",
       "       0, 6, 6, 0, 0, 6, 1, 1, 1, 1, 2, 2, 7, 7, 2, 2, 7, 7, 2, 2, 4, 4,\n",
       "       8, 8, 8, 4, 5, 5, 3, 3, 0, 6, 6, 0, 0, 6, 1, 1, 1, 1, 2, 2, 7, 7,\n",
       "       2, 2, 7, 7, 2, 2, 4, 4, 8, 8, 8, 4, 5, 5, 3, 3, 0, 6, 6, 0, 0, 6,\n",
       "       1, 1, 1, 1, 2, 2, 7, 7, 2, 2, 7, 7, 2, 2, 4, 4, 8, 8, 8, 4, 5, 5,\n",
       "       3, 3, 0, 6, 6, 0, 0, 6, 1, 1, 1, 1, 2, 2, 7, 7, 2, 2, 7, 7, 2, 2,\n",
       "       4, 4, 8, 8, 8, 4, 5, 5, 3, 3, 0, 6, 6, 0, 0, 6, 1, 1, 1, 1, 2, 2,\n",
       "       7, 7, 2, 2, 7, 7, 2, 2, 4, 4, 8, 8, 8, 4, 5, 5, 3, 3, 0, 6, 6, 0,\n",
       "       0, 6, 1, 1, 1, 1, 2, 2, 7, 7, 2, 2, 7, 7, 2, 2, 4, 4, 8, 8, 8, 4,\n",
       "       5, 5, 3, 3, 0, 6, 6, 0, 0, 6, 1, 1, 1, 1, 2, 2, 7, 7, 2, 2, 7, 7,\n",
       "       2, 2, 4, 4, 8, 8, 8, 4, 5, 5, 3, 3, 0, 6, 6, 0, 0, 6, 1, 1, 1, 1,\n",
       "       2, 2, 7, 7, 2, 2, 7, 7, 2, 2])"
      ]
     },
     "execution_count": 21,
     "metadata": {},
     "output_type": "execute_result"
    }
   ],
   "source": [
    "label_encoded_df"
   ]
  },
  {
   "cell_type": "code",
   "execution_count": null,
   "id": "40b78da0",
   "metadata": {},
   "outputs": [],
   "source": [
    "#as we can see that label encoder  has assigned 8 different integer matrix to 8 different brands present.\n",
    "#if we want we can apply label encoder to all of the columns,but it has to be done separately."
   ]
  },
  {
   "cell_type": "markdown",
   "id": "21f913a3",
   "metadata": {},
   "source": [
    "# CONCLUSION\n",
    "### We can say that before we move on to the solving the business problems with the data that is provided to us ,we need to identify the data ,analyse it and transform it to make the machine understand  it.this can be done using the steps applied above for both numerical as well as categorical variables.These preprocessing steps which is prescriptive analysis and data visualizations are very important and must not be missed as it is the first two steps of our data analysation.Without applying and implementing these steps we can't know/learn/understand our data."
   ]
  },
  {
   "cell_type": "code",
   "execution_count": null,
   "id": "ecd48152",
   "metadata": {},
   "outputs": [],
   "source": []
  },
  {
   "cell_type": "code",
   "execution_count": null,
   "id": "07a45f2b",
   "metadata": {},
   "outputs": [],
   "source": []
  }
 ],
 "metadata": {
  "kernelspec": {
   "display_name": "Python 3 (ipykernel)",
   "language": "python",
   "name": "python3"
  },
  "language_info": {
   "codemirror_mode": {
    "name": "ipython",
    "version": 3
   },
   "file_extension": ".py",
   "mimetype": "text/x-python",
   "name": "python",
   "nbconvert_exporter": "python",
   "pygments_lexer": "ipython3",
   "version": "3.11.5"
  }
 },
 "nbformat": 4,
 "nbformat_minor": 5
}
