{
 "cells": [
  {
   "cell_type": "code",
   "execution_count": 2,
   "id": "1c5f749c",
   "metadata": {},
   "outputs": [],
   "source": [
    "import pandas as pd\n",
    "import numpy as np\n",
    "from scipy.stats import t #we will use this library to calculate our confidence interval for a t dist. data."
   ]
  },
  {
   "cell_type": "code",
   "execution_count": 3,
   "id": "63abe4c9",
   "metadata": {},
   "outputs": [],
   "source": [
    "sample=[1.13, 1.55, 1.43, 0.92, 1.25, 1.36, 1.32, 0.85, 1.07, 1.48, 1.20, 1.33, 1.18, 1.22, 1.29]"
   ]
  },
  {
   "cell_type": "code",
   "execution_count": 4,
   "id": "7421752d",
   "metadata": {},
   "outputs": [],
   "source": [
    "sampledf=pd.DataFrame(sample)"
   ]
  },
  {
   "cell_type": "code",
   "execution_count": 5,
   "id": "9bde75a7",
   "metadata": {},
   "outputs": [
    {
     "data": {
      "text/html": [
       "<div>\n",
       "<style scoped>\n",
       "    .dataframe tbody tr th:only-of-type {\n",
       "        vertical-align: middle;\n",
       "    }\n",
       "\n",
       "    .dataframe tbody tr th {\n",
       "        vertical-align: top;\n",
       "    }\n",
       "\n",
       "    .dataframe thead th {\n",
       "        text-align: right;\n",
       "    }\n",
       "</style>\n",
       "<table border=\"1\" class=\"dataframe\">\n",
       "  <thead>\n",
       "    <tr style=\"text-align: right;\">\n",
       "      <th></th>\n",
       "      <th>0</th>\n",
       "    </tr>\n",
       "  </thead>\n",
       "  <tbody>\n",
       "    <tr>\n",
       "      <th>0</th>\n",
       "      <td>1.13</td>\n",
       "    </tr>\n",
       "    <tr>\n",
       "      <th>1</th>\n",
       "      <td>1.55</td>\n",
       "    </tr>\n",
       "    <tr>\n",
       "      <th>2</th>\n",
       "      <td>1.43</td>\n",
       "    </tr>\n",
       "    <tr>\n",
       "      <th>3</th>\n",
       "      <td>0.92</td>\n",
       "    </tr>\n",
       "    <tr>\n",
       "      <th>4</th>\n",
       "      <td>1.25</td>\n",
       "    </tr>\n",
       "    <tr>\n",
       "      <th>5</th>\n",
       "      <td>1.36</td>\n",
       "    </tr>\n",
       "    <tr>\n",
       "      <th>6</th>\n",
       "      <td>1.32</td>\n",
       "    </tr>\n",
       "    <tr>\n",
       "      <th>7</th>\n",
       "      <td>0.85</td>\n",
       "    </tr>\n",
       "    <tr>\n",
       "      <th>8</th>\n",
       "      <td>1.07</td>\n",
       "    </tr>\n",
       "    <tr>\n",
       "      <th>9</th>\n",
       "      <td>1.48</td>\n",
       "    </tr>\n",
       "    <tr>\n",
       "      <th>10</th>\n",
       "      <td>1.20</td>\n",
       "    </tr>\n",
       "    <tr>\n",
       "      <th>11</th>\n",
       "      <td>1.33</td>\n",
       "    </tr>\n",
       "    <tr>\n",
       "      <th>12</th>\n",
       "      <td>1.18</td>\n",
       "    </tr>\n",
       "    <tr>\n",
       "      <th>13</th>\n",
       "      <td>1.22</td>\n",
       "    </tr>\n",
       "    <tr>\n",
       "      <th>14</th>\n",
       "      <td>1.29</td>\n",
       "    </tr>\n",
       "  </tbody>\n",
       "</table>\n",
       "</div>"
      ],
      "text/plain": [
       "       0\n",
       "0   1.13\n",
       "1   1.55\n",
       "2   1.43\n",
       "3   0.92\n",
       "4   1.25\n",
       "5   1.36\n",
       "6   1.32\n",
       "7   0.85\n",
       "8   1.07\n",
       "9   1.48\n",
       "10  1.20\n",
       "11  1.33\n",
       "12  1.18\n",
       "13  1.22\n",
       "14  1.29"
      ]
     },
     "execution_count": 5,
     "metadata": {},
     "output_type": "execute_result"
    }
   ],
   "source": [
    "sampledf #created the dataframe of the sample data provided to us"
   ]
  },
  {
   "cell_type": "markdown",
   "id": "23042b63",
   "metadata": {},
   "source": [
    "we need to calculate mean,size and standard deviation and degrees of freedom of the t.distribution sample to calculate our confidence interval .degrees of freedom is necessary paramater as it represents the t shape of the data which means that when we find sample mean ,one degree of freedom is lost that are dependent  and to  calculate c.i we need degrees of freedom ,without it the data will look like normally distributed data."
   ]
  },
  {
   "cell_type": "code",
   "execution_count": 6,
   "id": "2ebad8db",
   "metadata": {},
   "outputs": [],
   "source": [
    "sample_mean=sampledf.mean()"
   ]
  },
  {
   "cell_type": "code",
   "execution_count": 7,
   "id": "73ffa6f3",
   "metadata": {},
   "outputs": [
    {
     "data": {
      "text/plain": [
       "0    1.238667\n",
       "dtype: float64"
      ]
     },
     "execution_count": 7,
     "metadata": {},
     "output_type": "execute_result"
    }
   ],
   "source": [
    "sample_mean"
   ]
  },
  {
   "cell_type": "code",
   "execution_count": 8,
   "id": "a0579a78",
   "metadata": {},
   "outputs": [],
   "source": [
    "sample_size=sampledf.count()"
   ]
  },
  {
   "cell_type": "code",
   "execution_count": 9,
   "id": "e83efb1b",
   "metadata": {},
   "outputs": [
    {
     "data": {
      "text/plain": [
       "0    15\n",
       "dtype: int64"
      ]
     },
     "execution_count": 9,
     "metadata": {},
     "output_type": "execute_result"
    }
   ],
   "source": [
    "sample_size"
   ]
  },
  {
   "cell_type": "code",
   "execution_count": 10,
   "id": "ee7fbc17",
   "metadata": {},
   "outputs": [],
   "source": [
    "sample_std=sampledf.std()"
   ]
  },
  {
   "cell_type": "code",
   "execution_count": 11,
   "id": "139a3a34",
   "metadata": {},
   "outputs": [
    {
     "data": {
      "text/plain": [
       "0    0.193164\n",
       "dtype: float64"
      ]
     },
     "execution_count": 11,
     "metadata": {},
     "output_type": "execute_result"
    }
   ],
   "source": [
    "sample_std"
   ]
  },
  {
   "cell_type": "code",
   "execution_count": 12,
   "id": "b9679875",
   "metadata": {},
   "outputs": [],
   "source": [
    "d_o_f=sample_size-1"
   ]
  },
  {
   "cell_type": "markdown",
   "id": "956707cf",
   "metadata": {},
   "source": [
    "After this we will calculate our c.i"
   ]
  },
  {
   "cell_type": "code",
   "execution_count": 15,
   "id": "829c8037",
   "metadata": {},
   "outputs": [],
   "source": [
    "lower_bound,upper_bound=t.interval(confidence=0.95,df=d_o_f,scale=sample_std,loc=sample_mean)"
   ]
  },
  {
   "cell_type": "code",
   "execution_count": 19,
   "id": "cdfb512e",
   "metadata": {},
   "outputs": [
    {
     "name": "stdout",
     "output_type": "stream",
     "text": [
      "confidence interval for sample mean when sample std is given of print heads is: [0.82437081] to [1.65296252]\n"
     ]
    }
   ],
   "source": [
    "print(\"confidence interval for sample mean when sample std is given of print heads is:\",lower_bound,\"to\",upper_bound)"
   ]
  },
  {
   "cell_type": "markdown",
   "id": "efc1081c",
   "metadata": {},
   "source": [
    "## we need to calculate mean,size for the given population standard deviation  to calculate our confidence interval at 99% for the normalzscore distribution."
   ]
  },
  {
   "cell_type": "code",
   "execution_count": 20,
   "id": "4eb2f3b9",
   "metadata": {},
   "outputs": [],
   "source": [
    "population_std=0.2#its in million"
   ]
  },
  {
   "cell_type": "code",
   "execution_count": null,
   "id": "1c404b86",
   "metadata": {},
   "outputs": [],
   "source": [
    "#we need to import norm from scipy library to calculate the c.i for normal distribution"
   ]
  },
  {
   "cell_type": "code",
   "execution_count": 21,
   "id": "67e4bb5b",
   "metadata": {},
   "outputs": [],
   "source": [
    "from scipy.stats import norm"
   ]
  },
  {
   "cell_type": "code",
   "execution_count": 23,
   "id": "c71879ad",
   "metadata": {},
   "outputs": [],
   "source": [
    "lower_bound,upper_bound=norm.interval(confidence=0.99,scale=population_std,loc=sample_mean)"
   ]
  },
  {
   "cell_type": "code",
   "execution_count": 24,
   "id": "508e040c",
   "metadata": {},
   "outputs": [
    {
     "name": "stdout",
     "output_type": "stream",
     "text": [
      "confidence interval for sample mean when population std is given of print heads is: [0.72350081] to [1.75383253]\n"
     ]
    }
   ],
   "source": [
    "print(\"confidence interval for sample mean when population std is given of print heads is:\",lower_bound,\"to\",upper_bound)"
   ]
  },
  {
   "cell_type": "code",
   "execution_count": null,
   "id": "f97ee815",
   "metadata": {},
   "outputs": [],
   "source": []
  },
  {
   "cell_type": "code",
   "execution_count": null,
   "id": "a3b9c51d",
   "metadata": {},
   "outputs": [],
   "source": []
  },
  {
   "cell_type": "code",
   "execution_count": null,
   "id": "40075ae1",
   "metadata": {},
   "outputs": [],
   "source": []
  },
  {
   "cell_type": "code",
   "execution_count": null,
   "id": "9af430b1",
   "metadata": {},
   "outputs": [],
   "source": []
  }
 ],
 "metadata": {
  "kernelspec": {
   "display_name": "Python 3 (ipykernel)",
   "language": "python",
   "name": "python3"
  },
  "language_info": {
   "codemirror_mode": {
    "name": "ipython",
    "version": 3
   },
   "file_extension": ".py",
   "mimetype": "text/x-python",
   "name": "python",
   "nbconvert_exporter": "python",
   "pygments_lexer": "ipython3",
   "version": "3.11.5"
  }
 },
 "nbformat": 4,
 "nbformat_minor": 5
}
