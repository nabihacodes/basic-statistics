{
 "cells": [
  {
   "cell_type": "markdown",
   "id": "c3daaf44",
   "metadata": {},
   "source": [
    "Q1.Write a Python program that checks whether a given number is prime or not. A prime number is a natural number greater than 1 that has no positive divisors other than 1 and itself."
   ]
  },
  {
   "cell_type": "code",
   "execution_count": 11,
   "id": "acc29948",
   "metadata": {},
   "outputs": [],
   "source": [
    "#for this we need to def a function which takes a number and says if it is a prime number or not based on if its divisible by the given number and\n",
    "#returns a remainder or 0\n",
    "import math\n",
    "def is_prime(num):\n",
    "    if num <= 1:\n",
    "        return False# it returns false if the no. is lessa than 1\n",
    "    for i in range(2, int(math.sqrt(num)) + 1):#we are only checking the number is diviible till its root value\n",
    "        if number % i == 0:#checks if a number is divisible by the given range till its root value and returns 0 then its not a prime number\n",
    "            return False\n",
    "    return True#if the number divided by the range till its root no. and gives the remainder then its a prime number."
   ]
  },
  {
   "cell_type": "code",
   "execution_count": 12,
   "id": "b6c0304d",
   "metadata": {},
   "outputs": [
    {
     "name": "stdout",
     "output_type": "stream",
     "text": [
      "3 is a prime number\n"
     ]
    }
   ],
   "source": [
    "number=3\n",
    "if is_prime(number):\n",
    "    print(f'{number} is a prime number')\n",
    "else:\n",
    "    print(f'{number} is  not a prime number')"
   ]
  },
  {
   "cell_type": "markdown",
   "id": "e2cdb6de",
   "metadata": {},
   "source": [
    "Q2.Develop a Python program that generates two random numbers and asks the user to enter the product of these numbers. The program should then check if the user's answer is correct and display an appropriate message."
   ]
  },
  {
   "cell_type": "code",
   "execution_count": 24,
   "id": "fe5af7f1",
   "metadata": {},
   "outputs": [
    {
     "name": "stdout",
     "output_type": "stream",
     "text": [
      "What is the product of 9 and 2? 66\n",
      "Incorrect answer.\n"
     ]
    }
   ],
   "source": [
    "import random\n",
    "#we willl first generate random numbers by creating a function \n",
    "def random_numbers():\n",
    "    num1 = random.randint(1, 10)\n",
    "    num2 = random.randint(1, 10)\n",
    "    return num1, num2\n",
    "\n",
    "def answer():\n",
    "    num1, num2 = random_numbers()#here we are calling numbers\n",
    "    product = num1 * num2#here we create the condion\n",
    "    user_answer = int(input(f'What is the product of {num1} and {num2}? '))#this is the display message and it will take the input in int\n",
    "    if user_answer == product:#this checks if our condition is true with the users answer\n",
    "        print(\"Congratulations! That's correct!\")#if yes then this message is displayed \n",
    "    else:\n",
    "        print(\"Incorrect answer.\")#else this message is displayed \n",
    "\n",
    "answer()#we call the function finally!\n"
   ]
  },
  {
   "cell_type": "markdown",
   "id": "13988837",
   "metadata": {},
   "source": [
    "Q3.Create a Python script that prints the squares of all even or odd numbers within the range of 100 to 200. Choose either even or odd numbers and document your choice in the code."
   ]
  },
  {
   "cell_type": "code",
   "execution_count": 32,
   "id": "d47f9107",
   "metadata": {},
   "outputs": [
    {
     "name": "stdout",
     "output_type": "stream",
     "text": [
      "The square of the even number 100 is 10000\n",
      "The square of the even number 102 is 10404\n",
      "The square of the even number 104 is 10816\n",
      "The square of the even number 106 is 11236\n",
      "The square of the even number 108 is 11664\n",
      "The square of the even number 110 is 12100\n",
      "The square of the even number 112 is 12544\n",
      "The square of the even number 114 is 12996\n",
      "The square of the even number 116 is 13456\n",
      "The square of the even number 118 is 13924\n",
      "The square of the even number 120 is 14400\n",
      "The square of the even number 122 is 14884\n",
      "The square of the even number 124 is 15376\n",
      "The square of the even number 126 is 15876\n",
      "The square of the even number 128 is 16384\n",
      "The square of the even number 130 is 16900\n",
      "The square of the even number 132 is 17424\n",
      "The square of the even number 134 is 17956\n",
      "The square of the even number 136 is 18496\n",
      "The square of the even number 138 is 19044\n",
      "The square of the even number 140 is 19600\n",
      "The square of the even number 142 is 20164\n",
      "The square of the even number 144 is 20736\n",
      "The square of the even number 146 is 21316\n",
      "The square of the even number 148 is 21904\n",
      "The square of the even number 150 is 22500\n",
      "The square of the even number 152 is 23104\n",
      "The square of the even number 154 is 23716\n",
      "The square of the even number 156 is 24336\n",
      "The square of the even number 158 is 24964\n",
      "The square of the even number 160 is 25600\n",
      "The square of the even number 162 is 26244\n",
      "The square of the even number 164 is 26896\n",
      "The square of the even number 166 is 27556\n",
      "The square of the even number 168 is 28224\n",
      "The square of the even number 170 is 28900\n",
      "The square of the even number 172 is 29584\n",
      "The square of the even number 174 is 30276\n",
      "The square of the even number 176 is 30976\n",
      "The square of the even number 178 is 31684\n",
      "The square of the even number 180 is 32400\n",
      "The square of the even number 182 is 33124\n",
      "The square of the even number 184 is 33856\n",
      "The square of the even number 186 is 34596\n",
      "The square of the even number 188 is 35344\n",
      "The square of the even number 190 is 36100\n",
      "The square of the even number 192 is 36864\n",
      "The square of the even number 194 is 37636\n",
      "The square of the even number 196 is 38416\n",
      "The square of the even number 198 is 39204\n"
     ]
    }
   ],
   "source": [
    "for x in range(100, 200):\n",
    "    even_num = x % 2\n",
    "    if even_num == 0:\n",
    "        print(\"The square of the even number\", x, \"is\", x**2)\n"
   ]
  },
  {
   "cell_type": "markdown",
   "id": "e812cf54",
   "metadata": {},
   "source": [
    "Q4.write a program to count the number of words in a given text."
   ]
  },
  {
   "cell_type": "code",
   "execution_count": 59,
   "id": "a00632c7",
   "metadata": {},
   "outputs": [
    {
     "name": "stdout",
     "output_type": "stream",
     "text": [
      "the count of word  this is 4\n",
      "the count of word  is is 2\n",
      "the count of word  the is 3\n",
      "the count of word  word is 4\n",
      "the count of word  counter is 7\n"
     ]
    }
   ],
   "source": [
    "inputtextsplit =\"this is the word counter\"\n",
    "split=inputtextsplit.split()\n",
    "for item in split:\n",
    "    print(\"the count of word \" ,item,\"is\",len(item))"
   ]
  },
  {
   "cell_type": "markdown",
   "id": "385cff9e",
   "metadata": {},
   "source": [
    "## Q5.\n",
    "\n",
    "we have to check if the word is a palindrome or not for thiis we have to create  the function ispalindrome and get an input from the user and return true or false .. A palindrome is a word, phrase, number, or other sequence of characters that reads the same forward and backward, ignoring spaces, punctuation, and capitalization."
   ]
  },
  {
   "cell_type": "code",
   "execution_count": 5,
   "id": "f164dbbf",
   "metadata": {},
   "outputs": [
    {
     "data": {
      "text/plain": [
       "['kayak', 'deified', 'rotator', 'repaper', 'deed', 'peep', 'wow']"
      ]
     },
     "execution_count": 5,
     "metadata": {},
     "output_type": "execute_result"
    }
   ],
   "source": [
    "palindrome_words"
   ]
  },
  {
   "cell_type": "code",
   "execution_count": 6,
   "id": "48dd1438",
   "metadata": {},
   "outputs": [
    {
     "name": "stdout",
     "output_type": "stream",
     "text": [
      "given the input: rotator\n",
      "true\n"
     ]
    }
   ],
   "source": [
    "def is_palindrome():\n",
    "  text =input(\"given the input: \").lower()\n",
    "  if not text.isalnum:\n",
    "        print(\"text is not string\")\n",
    "        return\n",
    "  if text == text[::-1]:#this is the crucial step which basically goes to the end of the string using this ('::') from\n",
    "    #there it goes -1,i.e reverse and checks if its the same word as the inputted word\n",
    "   print(\"true\")\n",
    "  else:\n",
    "   print(\"false\")\n",
    "is_palindrome()"
   ]
  },
  {
   "cell_type": "code",
   "execution_count": null,
   "id": "77b0e2fe",
   "metadata": {},
   "outputs": [],
   "source": []
  }
 ],
 "metadata": {
  "kernelspec": {
   "display_name": "Python 3 (ipykernel)",
   "language": "python",
   "name": "python3"
  },
  "language_info": {
   "codemirror_mode": {
    "name": "ipython",
    "version": 3
   },
   "file_extension": ".py",
   "mimetype": "text/x-python",
   "name": "python",
   "nbconvert_exporter": "python",
   "pygments_lexer": "ipython3",
   "version": "3.11.5"
  }
 },
 "nbformat": 4,
 "nbformat_minor": 5
}
